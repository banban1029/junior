{
 "cells": [
  {
   "cell_type": "markdown",
   "metadata": {
    "id": "0fQm9v7oCnl8"
   },
   "source": [
    "# Home Credit Default Risk\n",
    "このnotebookでは、予測結果を作成するまでの流れと基本的な手法についての紹介を行います。\n",
    "\n",
    "\n",
    "まずは、今回のタスクについて確認しましょう（詳細はREADME.ipynbをご覧ください）。\n",
    "- **目的**： 顧客データから債務不履行になる確率を予測する。\n",
    "- **評価指標**： AUC（Area Under the Curve）"
   ]
  },
  {
   "cell_type": "markdown",
   "metadata": {
    "id": "xcuOu_ttCnmA"
   },
   "source": [
    "## 目次\n",
    "0. ライブラリ・データの読み込み\n",
    "1. データの可視化と分析\n",
    "2. 前処理と特徴量作成\n",
    "3. 機械学習モデルの作成\n",
    "4. 予測結果の作成"
   ]
  },
  {
   "cell_type": "markdown",
   "metadata": {
    "id": "a5KcDAE8CnmB"
   },
   "source": [
    "## 0. ライブラリ・データの読み込み"
   ]
  },
  {
   "cell_type": "markdown",
   "metadata": {
    "id": "617twnHyCnmB"
   },
   "source": [
    "基本的なライブラリを読み込みます。\n",
    "他の必要なライブラリについては、説明をする際に読み込みます。\n",
    "- numpy：数値計算を効率的に行うライブラリ\n",
    "- pandas：データ分析に便利なライブラリ\n",
    "- matplotlib：グラフ描画ライブラリ\n",
    "- seaborn：グラフ描画ライブラリ"
   ]
  },
  {
   "cell_type": "code",
   "execution_count": 1,
   "metadata": {
    "id": "QShif6ZLCnmC"
   },
   "outputs": [],
   "source": [
    "# ライブラリの読み込み\n",
    "import numpy as np\n",
    "import pandas as pd\n",
    "import matplotlib.pyplot as plt\n",
    "import seaborn as sns\n",
    "\n",
    "import warnings\n",
    "warnings.filterwarnings('ignore')"
   ]
  },
  {
   "cell_type": "markdown",
   "metadata": {
    "id": "ZsnL75uiCnmD"
   },
   "source": [
    "必要なデータの読み込みを行います。GCIの教材フォルダの構成を想定して、読み込んでいます。"
   ]
  },
  {
   "cell_type": "code",
   "execution_count": 2,
   "metadata": {
    "colab": {
     "base_uri": "https://localhost:8080/"
    },
    "executionInfo": {
     "elapsed": 19769,
     "status": "ok",
     "timestamp": 1636420618905,
     "user": {
      "displayName": "Takuya Fukushima",
      "photoUrl": "https://lh3.googleusercontent.com/a-/AOh14GhR4LDFC_RMoC8DpM73KIZhKgCXA-oZ-HDU8R2wtw=s64",
      "userId": "15264897430699553304"
     },
     "user_tz": -540
    },
    "id": "7S86UJm3PcOe",
    "outputId": "752cd71c-0be6-479b-9064-dcfcc3624def"
   },
   "outputs": [
    {
     "ename": "ModuleNotFoundError",
     "evalue": "No module named 'google'",
     "output_type": "error",
     "traceback": [
      "\u001b[0;31m---------------------------------------------------------------------------\u001b[0m",
      "\u001b[0;31mModuleNotFoundError\u001b[0m                       Traceback (most recent call last)",
      "Cell \u001b[0;32mIn[2], line 2\u001b[0m\n\u001b[1;32m      1\u001b[0m \u001b[38;5;66;03m# Google Colaboratoryで作業する場合はこちらも実行してください。\u001b[39;00m\n\u001b[0;32m----> 2\u001b[0m \u001b[38;5;28;01mfrom\u001b[39;00m \u001b[38;5;21;01mgoogle\u001b[39;00m\u001b[38;5;21;01m.\u001b[39;00m\u001b[38;5;21;01mcolab\u001b[39;00m \u001b[38;5;28;01mimport\u001b[39;00m drive\n\u001b[1;32m      3\u001b[0m drive\u001b[38;5;241m.\u001b[39mmount(\u001b[38;5;124m'\u001b[39m\u001b[38;5;124m/content/drive\u001b[39m\u001b[38;5;124m'\u001b[39m)\n\u001b[1;32m      4\u001b[0m \u001b[38;5;66;03m# %cd 以降にこのnotebookを置いているディレクトリを指定してください。\u001b[39;00m\n",
      "\u001b[0;31mModuleNotFoundError\u001b[0m: No module named 'google'"
     ]
    }
   ],
   "source": [
    "# Google Colaboratoryで作業する場合はこちらも実行してください。\n",
    "from google.colab import drive\n",
    "drive.mount('/content/drive')\n",
    "# %cd 以降にこのnotebookを置いているディレクトリを指定してください。\n",
    "%cd \"/content/drive/MyDrive\""
   ]
  },
  {
   "cell_type": "code",
   "execution_count": null,
   "metadata": {},
   "outputs": [
    {
     "ename": "ModuleNotFoundError",
     "evalue": "No module named 'google'",
     "output_type": "error",
     "traceback": [
      "\u001b[0;31m---------------------------------------------------------------------------\u001b[0m\n",
      "\u001b[0;31mModuleNotFoundError\u001b[0m                       Traceback (most recent call last)\n",
      "Cell \u001b[0;32mIn[2], line 2\u001b[0m\n",
      "\u001b[1;32m      1\u001b[0m \u001b[38;5;66;03m# Google Colaboratoryで作業する場合はこちらも実行してください。\u001b[39;00m\n",
      "\u001b[0;32m----> 2\u001b[0m \u001b[38;5;28;01mfrom\u001b[39;00m \u001b[38;5;21;01mgoogle\u001b[39;00m\u001b[38;5;21;01m.\u001b[39;00m\u001b[38;5;21;01mcolab\u001b[39;00m \u001b[38;5;28;01mimport\u001b[39;00m drive\n",
      "\u001b[1;32m      3\u001b[0m drive\u001b[38;5;241m.\u001b[39mmount(\u001b[38;5;124m'\u001b[39m\u001b[38;5;124m/content/drive\u001b[39m\u001b[38;5;124m'\u001b[39m)\n",
      "\u001b[1;32m      4\u001b[0m \u001b[38;5;66;03m# %cd 以降にこのnotebookを置いているディレクトリを指定してください。\u001b[39;00m\n",
      "\n",
      "\u001b[0;31mModuleNotFoundError\u001b[0m: No module named 'google'"
     ]
    }
   ],
   "source": [
    "# Google Colaboratoryで作業する場合はこちらも実行してください。\n",
    "from google.colab import drive\n",
    "drive.mount('/content/drive')\n",
    "# %cd 以降にこのnotebookを置いているディレクトリを指定してください。\n",
    "%cd \"/content/drive/MyDrive\""
   ]
  },
  {
   "cell_type": "code",
   "execution_count": 25,
   "metadata": {
    "id": "FXM13YCeCnmE"
   },
   "outputs": [],
   "source": [
    "# データの読み込み\n",
    "# INPUT_DIRにtrain.csvなどのデータを置いているディレクトリを指定してください。\n",
    "INPUT_DIR = \"../input/\"\n",
    "\n",
    "train = pd.read_csv(INPUT_DIR + \"train.csv\")\n",
    "test = pd.read_csv(INPUT_DIR + \"test.csv\")\n",
    "sample_sub = pd.read_csv(INPUT_DIR + \"sample_submission.csv\")"
   ]
  },
  {
   "cell_type": "markdown",
   "metadata": {
    "id": "3NuP1zcmCnmF"
   },
   "source": [
    "## 1. データの可視化と分析"
   ]
  },
  {
   "cell_type": "markdown",
   "metadata": {
    "id": "jSh7uV_4CnmF"
   },
   "source": [
    "### 1.1 データの概観\n",
    "本格的な分析を行う前に、まずは簡単にデータの概観を確認します。"
   ]
  },
  {
   "cell_type": "code",
   "execution_count": 3,
   "metadata": {
    "colab": {
     "base_uri": "https://localhost:8080/",
     "height": 213
    },
    "executionInfo": {
     "elapsed": 14,
     "status": "ok",
     "timestamp": 1636420622599,
     "user": {
      "displayName": "Takuya Fukushima",
      "photoUrl": "https://lh3.googleusercontent.com/a-/AOh14GhR4LDFC_RMoC8DpM73KIZhKgCXA-oZ-HDU8R2wtw=s64",
      "userId": "15264897430699553304"
     },
     "user_tz": -540
    },
    "id": "tmJzxS2nCnmG",
    "outputId": "eb124cde-8a0f-4d1d-fe8a-527ac3c87269"
   },
   "outputs": [
    {
     "name": "stdout",
     "output_type": "stream",
     "text": [
      "train shape: (171202, 51)\n"
     ]
    },
    {
     "data": {
      "text/html": [
       "<div>\n",
       "<style scoped>\n",
       "    .dataframe tbody tr th:only-of-type {\n",
       "        vertical-align: middle;\n",
       "    }\n",
       "\n",
       "    .dataframe tbody tr th {\n",
       "        vertical-align: top;\n",
       "    }\n",
       "\n",
       "    .dataframe thead th {\n",
       "        text-align: right;\n",
       "    }\n",
       "</style>\n",
       "<table border=\"1\" class=\"dataframe\">\n",
       "  <thead>\n",
       "    <tr style=\"text-align: right;\">\n",
       "      <th></th>\n",
       "      <th>SK_ID_CURR</th>\n",
       "      <th>TARGET</th>\n",
       "      <th>NAME_CONTRACT_TYPE</th>\n",
       "      <th>CODE_GENDER</th>\n",
       "      <th>FLAG_OWN_CAR</th>\n",
       "      <th>FLAG_OWN_REALTY</th>\n",
       "      <th>CNT_CHILDREN</th>\n",
       "      <th>AMT_INCOME_TOTAL</th>\n",
       "      <th>AMT_CREDIT</th>\n",
       "      <th>AMT_ANNUITY</th>\n",
       "      <th>...</th>\n",
       "      <th>EXT_SOURCE_3</th>\n",
       "      <th>OBS_30_CNT_SOCIAL_CIRCLE</th>\n",
       "      <th>DEF_30_CNT_SOCIAL_CIRCLE</th>\n",
       "      <th>OBS_60_CNT_SOCIAL_CIRCLE</th>\n",
       "      <th>DEF_60_CNT_SOCIAL_CIRCLE</th>\n",
       "      <th>DAYS_LAST_PHONE_CHANGE</th>\n",
       "      <th>AMT_REQ_CREDIT_BUREAU_HOUR</th>\n",
       "      <th>AMT_REQ_CREDIT_BUREAU_MON</th>\n",
       "      <th>AMT_REQ_CREDIT_BUREAU_QRT</th>\n",
       "      <th>AMT_REQ_CREDIT_BUREAU_YEAR</th>\n",
       "    </tr>\n",
       "  </thead>\n",
       "  <tbody>\n",
       "    <tr>\n",
       "      <th>0</th>\n",
       "      <td>0</td>\n",
       "      <td>0</td>\n",
       "      <td>Cash loans</td>\n",
       "      <td>F</td>\n",
       "      <td>N</td>\n",
       "      <td>N</td>\n",
       "      <td>0</td>\n",
       "      <td>112500.0</td>\n",
       "      <td>755190.0</td>\n",
       "      <td>36328.5</td>\n",
       "      <td>...</td>\n",
       "      <td>NaN</td>\n",
       "      <td>0.0</td>\n",
       "      <td>0.0</td>\n",
       "      <td>0.0</td>\n",
       "      <td>0.0</td>\n",
       "      <td>-292.0</td>\n",
       "      <td>NaN</td>\n",
       "      <td>NaN</td>\n",
       "      <td>NaN</td>\n",
       "      <td>NaN</td>\n",
       "    </tr>\n",
       "    <tr>\n",
       "      <th>1</th>\n",
       "      <td>1</td>\n",
       "      <td>0</td>\n",
       "      <td>Cash loans</td>\n",
       "      <td>F</td>\n",
       "      <td>N</td>\n",
       "      <td>Y</td>\n",
       "      <td>0</td>\n",
       "      <td>225000.0</td>\n",
       "      <td>585000.0</td>\n",
       "      <td>16893.0</td>\n",
       "      <td>...</td>\n",
       "      <td>0.553165</td>\n",
       "      <td>0.0</td>\n",
       "      <td>0.0</td>\n",
       "      <td>0.0</td>\n",
       "      <td>0.0</td>\n",
       "      <td>-617.0</td>\n",
       "      <td>0.0</td>\n",
       "      <td>0.0</td>\n",
       "      <td>0.0</td>\n",
       "      <td>1.0</td>\n",
       "    </tr>\n",
       "    <tr>\n",
       "      <th>2</th>\n",
       "      <td>2</td>\n",
       "      <td>0</td>\n",
       "      <td>Cash loans</td>\n",
       "      <td>F</td>\n",
       "      <td>N</td>\n",
       "      <td>Y</td>\n",
       "      <td>0</td>\n",
       "      <td>54000.0</td>\n",
       "      <td>334152.0</td>\n",
       "      <td>18256.5</td>\n",
       "      <td>...</td>\n",
       "      <td>NaN</td>\n",
       "      <td>4.0</td>\n",
       "      <td>0.0</td>\n",
       "      <td>4.0</td>\n",
       "      <td>0.0</td>\n",
       "      <td>-542.0</td>\n",
       "      <td>NaN</td>\n",
       "      <td>NaN</td>\n",
       "      <td>NaN</td>\n",
       "      <td>NaN</td>\n",
       "    </tr>\n",
       "  </tbody>\n",
       "</table>\n",
       "<p>3 rows × 51 columns</p>\n",
       "</div>"
      ],
      "text/plain": [
       "   SK_ID_CURR  TARGET NAME_CONTRACT_TYPE CODE_GENDER FLAG_OWN_CAR  \\\n",
       "0           0       0         Cash loans           F            N   \n",
       "1           1       0         Cash loans           F            N   \n",
       "2           2       0         Cash loans           F            N   \n",
       "\n",
       "  FLAG_OWN_REALTY  CNT_CHILDREN  AMT_INCOME_TOTAL  AMT_CREDIT  AMT_ANNUITY  \\\n",
       "0               N             0          112500.0    755190.0      36328.5   \n",
       "1               Y             0          225000.0    585000.0      16893.0   \n",
       "2               Y             0           54000.0    334152.0      18256.5   \n",
       "\n",
       "   ...  EXT_SOURCE_3 OBS_30_CNT_SOCIAL_CIRCLE DEF_30_CNT_SOCIAL_CIRCLE  \\\n",
       "0  ...           NaN                      0.0                      0.0   \n",
       "1  ...      0.553165                      0.0                      0.0   \n",
       "2  ...           NaN                      4.0                      0.0   \n",
       "\n",
       "  OBS_60_CNT_SOCIAL_CIRCLE DEF_60_CNT_SOCIAL_CIRCLE DAYS_LAST_PHONE_CHANGE  \\\n",
       "0                      0.0                      0.0                 -292.0   \n",
       "1                      0.0                      0.0                 -617.0   \n",
       "2                      4.0                      0.0                 -542.0   \n",
       "\n",
       "   AMT_REQ_CREDIT_BUREAU_HOUR  AMT_REQ_CREDIT_BUREAU_MON  \\\n",
       "0                         NaN                        NaN   \n",
       "1                         0.0                        0.0   \n",
       "2                         NaN                        NaN   \n",
       "\n",
       "   AMT_REQ_CREDIT_BUREAU_QRT  AMT_REQ_CREDIT_BUREAU_YEAR  \n",
       "0                        NaN                         NaN  \n",
       "1                        0.0                         1.0  \n",
       "2                        NaN                         NaN  \n",
       "\n",
       "[3 rows x 51 columns]"
      ]
     },
     "execution_count": 3,
     "metadata": {},
     "output_type": "execute_result"
    }
   ],
   "source": [
    "# trainデータの確認\n",
    "print(f\"train shape: {train.shape}\")\n",
    "train.head(3)"
   ]
  },
  {
   "cell_type": "code",
   "execution_count": 4,
   "metadata": {
    "colab": {
     "base_uri": "https://localhost:8080/",
     "height": 213
    },
    "executionInfo": {
     "elapsed": 599,
     "status": "ok",
     "timestamp": 1636420623190,
     "user": {
      "displayName": "Takuya Fukushima",
      "photoUrl": "https://lh3.googleusercontent.com/a-/AOh14GhR4LDFC_RMoC8DpM73KIZhKgCXA-oZ-HDU8R2wtw=s64",
      "userId": "15264897430699553304"
     },
     "user_tz": -540
    },
    "id": "0j6hSZwjCnmG",
    "outputId": "7e7c4da9-8939-4c1c-9656-76a8ce6030ee"
   },
   "outputs": [
    {
     "name": "stdout",
     "output_type": "stream",
     "text": [
      "test shape: (61500, 50)\n"
     ]
    },
    {
     "data": {
      "text/html": [
       "<div>\n",
       "<style scoped>\n",
       "    .dataframe tbody tr th:only-of-type {\n",
       "        vertical-align: middle;\n",
       "    }\n",
       "\n",
       "    .dataframe tbody tr th {\n",
       "        vertical-align: top;\n",
       "    }\n",
       "\n",
       "    .dataframe thead th {\n",
       "        text-align: right;\n",
       "    }\n",
       "</style>\n",
       "<table border=\"1\" class=\"dataframe\">\n",
       "  <thead>\n",
       "    <tr style=\"text-align: right;\">\n",
       "      <th></th>\n",
       "      <th>SK_ID_CURR</th>\n",
       "      <th>NAME_CONTRACT_TYPE</th>\n",
       "      <th>CODE_GENDER</th>\n",
       "      <th>FLAG_OWN_CAR</th>\n",
       "      <th>FLAG_OWN_REALTY</th>\n",
       "      <th>CNT_CHILDREN</th>\n",
       "      <th>AMT_INCOME_TOTAL</th>\n",
       "      <th>AMT_CREDIT</th>\n",
       "      <th>AMT_ANNUITY</th>\n",
       "      <th>AMT_GOODS_PRICE</th>\n",
       "      <th>...</th>\n",
       "      <th>EXT_SOURCE_3</th>\n",
       "      <th>OBS_30_CNT_SOCIAL_CIRCLE</th>\n",
       "      <th>DEF_30_CNT_SOCIAL_CIRCLE</th>\n",
       "      <th>OBS_60_CNT_SOCIAL_CIRCLE</th>\n",
       "      <th>DEF_60_CNT_SOCIAL_CIRCLE</th>\n",
       "      <th>DAYS_LAST_PHONE_CHANGE</th>\n",
       "      <th>AMT_REQ_CREDIT_BUREAU_HOUR</th>\n",
       "      <th>AMT_REQ_CREDIT_BUREAU_MON</th>\n",
       "      <th>AMT_REQ_CREDIT_BUREAU_QRT</th>\n",
       "      <th>AMT_REQ_CREDIT_BUREAU_YEAR</th>\n",
       "    </tr>\n",
       "  </thead>\n",
       "  <tbody>\n",
       "    <tr>\n",
       "      <th>0</th>\n",
       "      <td>171202</td>\n",
       "      <td>Cash loans</td>\n",
       "      <td>F</td>\n",
       "      <td>N</td>\n",
       "      <td>N</td>\n",
       "      <td>1</td>\n",
       "      <td>144000.0</td>\n",
       "      <td>961146.0</td>\n",
       "      <td>28233.0</td>\n",
       "      <td>688500.0</td>\n",
       "      <td>...</td>\n",
       "      <td>NaN</td>\n",
       "      <td>2.0</td>\n",
       "      <td>0.0</td>\n",
       "      <td>2.0</td>\n",
       "      <td>0.0</td>\n",
       "      <td>-1.0</td>\n",
       "      <td>NaN</td>\n",
       "      <td>NaN</td>\n",
       "      <td>NaN</td>\n",
       "      <td>NaN</td>\n",
       "    </tr>\n",
       "    <tr>\n",
       "      <th>1</th>\n",
       "      <td>171203</td>\n",
       "      <td>Cash loans</td>\n",
       "      <td>F</td>\n",
       "      <td>N</td>\n",
       "      <td>N</td>\n",
       "      <td>0</td>\n",
       "      <td>103500.0</td>\n",
       "      <td>296280.0</td>\n",
       "      <td>16069.5</td>\n",
       "      <td>225000.0</td>\n",
       "      <td>...</td>\n",
       "      <td>NaN</td>\n",
       "      <td>5.0</td>\n",
       "      <td>0.0</td>\n",
       "      <td>5.0</td>\n",
       "      <td>0.0</td>\n",
       "      <td>-212.0</td>\n",
       "      <td>NaN</td>\n",
       "      <td>NaN</td>\n",
       "      <td>NaN</td>\n",
       "      <td>NaN</td>\n",
       "    </tr>\n",
       "    <tr>\n",
       "      <th>2</th>\n",
       "      <td>171204</td>\n",
       "      <td>Cash loans</td>\n",
       "      <td>F</td>\n",
       "      <td>N</td>\n",
       "      <td>Y</td>\n",
       "      <td>1</td>\n",
       "      <td>180000.0</td>\n",
       "      <td>183694.5</td>\n",
       "      <td>11236.5</td>\n",
       "      <td>139500.0</td>\n",
       "      <td>...</td>\n",
       "      <td>0.389339</td>\n",
       "      <td>7.0</td>\n",
       "      <td>0.0</td>\n",
       "      <td>7.0</td>\n",
       "      <td>0.0</td>\n",
       "      <td>-428.0</td>\n",
       "      <td>0.0</td>\n",
       "      <td>1.0</td>\n",
       "      <td>1.0</td>\n",
       "      <td>1.0</td>\n",
       "    </tr>\n",
       "  </tbody>\n",
       "</table>\n",
       "<p>3 rows × 50 columns</p>\n",
       "</div>"
      ],
      "text/plain": [
       "   SK_ID_CURR NAME_CONTRACT_TYPE CODE_GENDER FLAG_OWN_CAR FLAG_OWN_REALTY  \\\n",
       "0      171202         Cash loans           F            N               N   \n",
       "1      171203         Cash loans           F            N               N   \n",
       "2      171204         Cash loans           F            N               Y   \n",
       "\n",
       "   CNT_CHILDREN  AMT_INCOME_TOTAL  AMT_CREDIT  AMT_ANNUITY  AMT_GOODS_PRICE  \\\n",
       "0             1          144000.0    961146.0      28233.0         688500.0   \n",
       "1             0          103500.0    296280.0      16069.5         225000.0   \n",
       "2             1          180000.0    183694.5      11236.5         139500.0   \n",
       "\n",
       "   ... EXT_SOURCE_3 OBS_30_CNT_SOCIAL_CIRCLE DEF_30_CNT_SOCIAL_CIRCLE  \\\n",
       "0  ...          NaN                      2.0                      0.0   \n",
       "1  ...          NaN                      5.0                      0.0   \n",
       "2  ...     0.389339                      7.0                      0.0   \n",
       "\n",
       "  OBS_60_CNT_SOCIAL_CIRCLE DEF_60_CNT_SOCIAL_CIRCLE  DAYS_LAST_PHONE_CHANGE  \\\n",
       "0                      2.0                      0.0                    -1.0   \n",
       "1                      5.0                      0.0                  -212.0   \n",
       "2                      7.0                      0.0                  -428.0   \n",
       "\n",
       "   AMT_REQ_CREDIT_BUREAU_HOUR  AMT_REQ_CREDIT_BUREAU_MON  \\\n",
       "0                         NaN                        NaN   \n",
       "1                         NaN                        NaN   \n",
       "2                         0.0                        1.0   \n",
       "\n",
       "   AMT_REQ_CREDIT_BUREAU_QRT  AMT_REQ_CREDIT_BUREAU_YEAR  \n",
       "0                        NaN                         NaN  \n",
       "1                        NaN                         NaN  \n",
       "2                        1.0                         1.0  \n",
       "\n",
       "[3 rows x 50 columns]"
      ]
     },
     "execution_count": 4,
     "metadata": {},
     "output_type": "execute_result"
    }
   ],
   "source": [
    "# testデータの確認\n",
    "print(f\"test shape: {test.shape}\")\n",
    "test.head(3)"
   ]
  },
  {
   "cell_type": "markdown",
   "metadata": {
    "id": "ISAjKWceCnmH"
   },
   "source": [
    "特徴量が50種類もあることが分かります。このnotebookでは、50種類全ての特徴量について分析することはせず、5種類の特徴量に絞って分析を行います。今回のように特徴量が多い場合は、初めから全ての特徴量に対して、分析や前処理を行うのは大変だと思います。なので、初めは少ない特徴量で予測結果を出すことを目標に取り組んでみて、それから扱う特徴量を増やしてみると取り組みやすいです。残りの45種類の特徴量については、今までの教材やこのnotebook等を参考にして、自分の力で分析を行ってみてください。\n",
    "\n",
    "\n",
    "使用する5種類の特徴量については、様々な処理の説明を行えるように選択しています。"
   ]
  },
  {
   "cell_type": "code",
   "execution_count": 26,
   "metadata": {
    "id": "zCF0BZ2lCnmH"
   },
   "outputs": [],
   "source": [
    "# 5種類の特徴量に絞る\n",
    "use_features = [\"NAME_CONTRACT_TYPE\", \"AMT_INCOME_TOTAL\", \"EXT_SOURCE_2\", \"OWN_CAR_AGE\", \"ORGANIZATION_TYPE\", \"AMT_REQ_CREDIT_BUREAU_YEAR\", \"EXT_SOURCE_1\", \"EXT_SOURCE_3\",\"FLAG_OWN_REALTY\"]\n",
    "target = train[\"TARGET\"].values\n",
    "\n",
    "train = train[use_features]\n",
    "train[\"TARGET\"] = target\n",
    "test = test[use_features]"
   ]
  },
  {
   "cell_type": "markdown",
   "metadata": {
    "id": "5zCvRUOCCnmH"
   },
   "source": [
    "再度、データの確認を行います。"
   ]
  },
  {
   "cell_type": "code",
   "execution_count": 7,
   "metadata": {
    "colab": {
     "base_uri": "https://localhost:8080/",
     "height": 179
    },
    "executionInfo": {
     "elapsed": 29,
     "status": "ok",
     "timestamp": 1636420623191,
     "user": {
      "displayName": "Takuya Fukushima",
      "photoUrl": "https://lh3.googleusercontent.com/a-/AOh14GhR4LDFC_RMoC8DpM73KIZhKgCXA-oZ-HDU8R2wtw=s64",
      "userId": "15264897430699553304"
     },
     "user_tz": -540
    },
    "id": "X4IL84J-CnmI",
    "outputId": "0eadb275-38be-4c6b-8665-accb51cb7047"
   },
   "outputs": [
    {
     "name": "stdout",
     "output_type": "stream",
     "text": [
      "train shape: (171202, 10)\n"
     ]
    },
    {
     "data": {
      "text/html": [
       "<div>\n",
       "<style scoped>\n",
       "    .dataframe tbody tr th:only-of-type {\n",
       "        vertical-align: middle;\n",
       "    }\n",
       "\n",
       "    .dataframe tbody tr th {\n",
       "        vertical-align: top;\n",
       "    }\n",
       "\n",
       "    .dataframe thead th {\n",
       "        text-align: right;\n",
       "    }\n",
       "</style>\n",
       "<table border=\"1\" class=\"dataframe\">\n",
       "  <thead>\n",
       "    <tr style=\"text-align: right;\">\n",
       "      <th></th>\n",
       "      <th>NAME_CONTRACT_TYPE</th>\n",
       "      <th>AMT_INCOME_TOTAL</th>\n",
       "      <th>EXT_SOURCE_2</th>\n",
       "      <th>OWN_CAR_AGE</th>\n",
       "      <th>ORGANIZATION_TYPE</th>\n",
       "      <th>AMT_REQ_CREDIT_BUREAU_YEAR</th>\n",
       "      <th>EXT_SOURCE_1</th>\n",
       "      <th>EXT_SOURCE_2</th>\n",
       "      <th>EXT_SOURCE_3</th>\n",
       "      <th>TARGET</th>\n",
       "    </tr>\n",
       "  </thead>\n",
       "  <tbody>\n",
       "    <tr>\n",
       "      <th>0</th>\n",
       "      <td>Cash loans</td>\n",
       "      <td>112500.0</td>\n",
       "      <td>0.372591</td>\n",
       "      <td>NaN</td>\n",
       "      <td>School</td>\n",
       "      <td>NaN</td>\n",
       "      <td>NaN</td>\n",
       "      <td>0.372591</td>\n",
       "      <td>NaN</td>\n",
       "      <td>0</td>\n",
       "    </tr>\n",
       "    <tr>\n",
       "      <th>1</th>\n",
       "      <td>Cash loans</td>\n",
       "      <td>225000.0</td>\n",
       "      <td>0.449567</td>\n",
       "      <td>NaN</td>\n",
       "      <td>XNA</td>\n",
       "      <td>1.0</td>\n",
       "      <td>NaN</td>\n",
       "      <td>0.449567</td>\n",
       "      <td>0.553165</td>\n",
       "      <td>0</td>\n",
       "    </tr>\n",
       "    <tr>\n",
       "      <th>2</th>\n",
       "      <td>Cash loans</td>\n",
       "      <td>54000.0</td>\n",
       "      <td>0.569503</td>\n",
       "      <td>NaN</td>\n",
       "      <td>Postal</td>\n",
       "      <td>NaN</td>\n",
       "      <td>NaN</td>\n",
       "      <td>0.569503</td>\n",
       "      <td>NaN</td>\n",
       "      <td>0</td>\n",
       "    </tr>\n",
       "  </tbody>\n",
       "</table>\n",
       "</div>"
      ],
      "text/plain": [
       "  NAME_CONTRACT_TYPE  AMT_INCOME_TOTAL  EXT_SOURCE_2  OWN_CAR_AGE  \\\n",
       "0         Cash loans          112500.0      0.372591          NaN   \n",
       "1         Cash loans          225000.0      0.449567          NaN   \n",
       "2         Cash loans           54000.0      0.569503          NaN   \n",
       "\n",
       "  ORGANIZATION_TYPE  AMT_REQ_CREDIT_BUREAU_YEAR  EXT_SOURCE_1  EXT_SOURCE_2  \\\n",
       "0            School                         NaN           NaN      0.372591   \n",
       "1               XNA                         1.0           NaN      0.449567   \n",
       "2            Postal                         NaN           NaN      0.569503   \n",
       "\n",
       "   EXT_SOURCE_3  TARGET  \n",
       "0           NaN       0  \n",
       "1      0.553165       0  \n",
       "2           NaN       0  "
      ]
     },
     "execution_count": 7,
     "metadata": {},
     "output_type": "execute_result"
    }
   ],
   "source": [
    "# trainデータの確認\n",
    "print(f\"train shape: {train.shape}\")\n",
    "train.head(3)"
   ]
  },
  {
   "cell_type": "code",
   "execution_count": 12,
   "metadata": {
    "colab": {
     "base_uri": "https://localhost:8080/",
     "height": 179
    },
    "executionInfo": {
     "elapsed": 25,
     "status": "ok",
     "timestamp": 1636420623192,
     "user": {
      "displayName": "Takuya Fukushima",
      "photoUrl": "https://lh3.googleusercontent.com/a-/AOh14GhR4LDFC_RMoC8DpM73KIZhKgCXA-oZ-HDU8R2wtw=s64",
      "userId": "15264897430699553304"
     },
     "user_tz": -540
    },
    "id": "ns__iaZ3CnmI",
    "outputId": "b38a0a0e-925f-42c3-96d2-8ec80756b57c"
   },
   "outputs": [
    {
     "name": "stdout",
     "output_type": "stream",
     "text": [
      "test shape: (61500, 6)\n"
     ]
    },
    {
     "data": {
      "text/html": [
       "<div>\n",
       "<style scoped>\n",
       "    .dataframe tbody tr th:only-of-type {\n",
       "        vertical-align: middle;\n",
       "    }\n",
       "\n",
       "    .dataframe tbody tr th {\n",
       "        vertical-align: top;\n",
       "    }\n",
       "\n",
       "    .dataframe thead th {\n",
       "        text-align: right;\n",
       "    }\n",
       "</style>\n",
       "<table border=\"1\" class=\"dataframe\">\n",
       "  <thead>\n",
       "    <tr style=\"text-align: right;\">\n",
       "      <th></th>\n",
       "      <th>NAME_CONTRACT_TYPE</th>\n",
       "      <th>AMT_INCOME_TOTAL</th>\n",
       "      <th>EXT_SOURCE_2</th>\n",
       "      <th>OWN_CAR_AGE</th>\n",
       "      <th>ORGANIZATION_TYPE</th>\n",
       "      <th>AMT_REQ_CREDIT_BUREAU_YEAR</th>\n",
       "    </tr>\n",
       "  </thead>\n",
       "  <tbody>\n",
       "    <tr>\n",
       "      <th>0</th>\n",
       "      <td>Cash loans</td>\n",
       "      <td>144000.0</td>\n",
       "      <td>0.720416</td>\n",
       "      <td>NaN</td>\n",
       "      <td>Kindergarten</td>\n",
       "      <td>NaN</td>\n",
       "    </tr>\n",
       "    <tr>\n",
       "      <th>1</th>\n",
       "      <td>Cash loans</td>\n",
       "      <td>103500.0</td>\n",
       "      <td>0.287306</td>\n",
       "      <td>NaN</td>\n",
       "      <td>School</td>\n",
       "      <td>NaN</td>\n",
       "    </tr>\n",
       "    <tr>\n",
       "      <th>2</th>\n",
       "      <td>Cash loans</td>\n",
       "      <td>180000.0</td>\n",
       "      <td>0.352456</td>\n",
       "      <td>NaN</td>\n",
       "      <td>Trade: type 7</td>\n",
       "      <td>1.0</td>\n",
       "    </tr>\n",
       "  </tbody>\n",
       "</table>\n",
       "</div>"
      ],
      "text/plain": [
       "  NAME_CONTRACT_TYPE  AMT_INCOME_TOTAL  EXT_SOURCE_2  OWN_CAR_AGE  \\\n",
       "0         Cash loans          144000.0      0.720416          NaN   \n",
       "1         Cash loans          103500.0      0.287306          NaN   \n",
       "2         Cash loans          180000.0      0.352456          NaN   \n",
       "\n",
       "  ORGANIZATION_TYPE  AMT_REQ_CREDIT_BUREAU_YEAR  \n",
       "0      Kindergarten                         NaN  \n",
       "1            School                         NaN  \n",
       "2     Trade: type 7                         1.0  "
      ]
     },
     "execution_count": 12,
     "metadata": {},
     "output_type": "execute_result"
    }
   ],
   "source": [
    "# testデータの確認\n",
    "print(f\"test shape: {test.shape}\")\n",
    "test.head(3)"
   ]
  },
  {
   "cell_type": "markdown",
   "metadata": {
    "id": "Ooo0LA-2CnmI"
   },
   "source": [
    "### 1.2 データの可視化・分析(EDA)\n",
    "データを可視化して分析を行います。この作業では、特徴量の値の分布, 欠損値, 外れ値, 相関関係などの確認を行うことでデータへの理解を深めます。この段階で得られる分析結果を元に、前処理、特徴量の作成、機械学習モデルの選択などを行うので、最終的な予測に大きく影響する重要な作業となります。Kaggle上でも様々な方がEDAを行ったコードが公開されているので、参考にしてみると良いです。"
   ]
  },
  {
   "cell_type": "markdown",
   "metadata": {
    "id": "9tnoSfzvCnmJ"
   },
   "source": [
    "#### 1.2.1 欠損値の確認\n",
    "ここでは、欠損値の確認を行います。\n",
    "ほとんどの機械学習モデルでは、欠損値があるデータで学習を行うことができません。そのため、何かしらの値で欠損値を埋める必要があるので、欠損値の確認を必ず行います。"
   ]
  },
  {
   "cell_type": "code",
   "execution_count": 4,
   "metadata": {
    "colab": {
     "base_uri": "https://localhost:8080/"
    },
    "executionInfo": {
     "elapsed": 24,
     "status": "ok",
     "timestamp": 1636420623194,
     "user": {
      "displayName": "Takuya Fukushima",
      "photoUrl": "https://lh3.googleusercontent.com/a-/AOh14GhR4LDFC_RMoC8DpM73KIZhKgCXA-oZ-HDU8R2wtw=s64",
      "userId": "15264897430699553304"
     },
     "user_tz": -540
    },
    "id": "10WA5hRBCnmJ",
    "outputId": "45d26873-5c15-4dd4-d805-9ffbe2c71dcb"
   },
   "outputs": [
    {
     "data": {
      "text/plain": [
       "NAME_CONTRACT_TYPE                 0\n",
       "AMT_INCOME_TOTAL                   0\n",
       "EXT_SOURCE_2                     369\n",
       "OWN_CAR_AGE                   112992\n",
       "ORGANIZATION_TYPE                  0\n",
       "AMT_REQ_CREDIT_BUREAU_YEAR     23116\n",
       "EXT_SOURCE_1                  118928\n",
       "EXT_SOURCE_3                   54586\n",
       "TARGET                             0\n",
       "dtype: int64"
      ]
     },
     "execution_count": 4,
     "metadata": {},
     "output_type": "execute_result"
    }
   ],
   "source": [
    "# trainの欠損値を確認\n",
    "train.isnull().sum()"
   ]
  },
  {
   "cell_type": "code",
   "execution_count": 5,
   "metadata": {
    "colab": {
     "base_uri": "https://localhost:8080/"
    },
    "executionInfo": {
     "elapsed": 23,
     "status": "ok",
     "timestamp": 1636420623195,
     "user": {
      "displayName": "Takuya Fukushima",
      "photoUrl": "https://lh3.googleusercontent.com/a-/AOh14GhR4LDFC_RMoC8DpM73KIZhKgCXA-oZ-HDU8R2wtw=s64",
      "userId": "15264897430699553304"
     },
     "user_tz": -540
    },
    "id": "3Y7FVExVCnmJ",
    "outputId": "3f57c376-6c29-4681-db59-621dac27f44b"
   },
   "outputs": [
    {
     "data": {
      "text/plain": [
       "NAME_CONTRACT_TYPE                0\n",
       "AMT_INCOME_TOTAL                  0\n",
       "EXT_SOURCE_2                    130\n",
       "OWN_CAR_AGE                   40909\n",
       "ORGANIZATION_TYPE                 0\n",
       "AMT_REQ_CREDIT_BUREAU_YEAR     8513\n",
       "EXT_SOURCE_1                  42912\n",
       "EXT_SOURCE_3                  19690\n",
       "dtype: int64"
      ]
     },
     "execution_count": 5,
     "metadata": {},
     "output_type": "execute_result"
    }
   ],
   "source": [
    "# testの欠損値を確認\n",
    "test.isnull().sum()"
   ]
  },
  {
   "cell_type": "markdown",
   "metadata": {
    "id": "Erj6eK80CnmJ"
   },
   "source": [
    "EXT_SOURCE_2、OWN_CAR_AGEに欠損値があることが分かりました。後ほどこれらの欠損値の処理を行います。もちろん、今回は扱っていない特徴量についても、欠損値が存在する可能性があるので各自で確認を行ってみましょう。"
   ]
  },
  {
   "cell_type": "markdown",
   "metadata": {
    "id": "PHtdHORMCnmJ"
   },
   "source": [
    "#### 1.2.2 各特徴量の可視化・分析\n",
    "ここでは、各特徴量について可視化を行い、どのような特徴があるのか分析します。"
   ]
  },
  {
   "cell_type": "code",
   "execution_count": 6,
   "metadata": {
    "colab": {
     "base_uri": "https://localhost:8080/",
     "height": 279
    },
    "executionInfo": {
     "elapsed": 20,
     "status": "ok",
     "timestamp": 1636420623196,
     "user": {
      "displayName": "Takuya Fukushima",
      "photoUrl": "https://lh3.googleusercontent.com/a-/AOh14GhR4LDFC_RMoC8DpM73KIZhKgCXA-oZ-HDU8R2wtw=s64",
      "userId": "15264897430699553304"
     },
     "user_tz": -540
    },
    "id": "EYRYwJ_LCnmK",
    "outputId": "c48465a7-dd7b-4148-ae9e-345ea4884b06"
   },
   "outputs": [
    {
     "data": {
      "image/png": "[encoded data removed]",
      "text/plain": [
       "<Figure size 640x480 with 1 Axes>"
      ]
     },
     "metadata": {},
     "output_type": "display_data"
    }
   ],
   "source": [
    "# 目的変数（債務不履行かどうか）の分布\n",
    "sns.countplot(data=train, x=\"TARGET\")\n",
    "plt.show()"
   ]
  },
  {
   "cell_type": "markdown",
   "metadata": {
    "id": "cw4sq8rSCnmK"
   },
   "source": [
    "目的変数の分布が大きく偏っていることが分かります。このように目的変数の分布が大きく偏っているデータのことを不均衡データと呼びます。\n",
    "\n",
    "\n",
    "不均衡データを扱う際は、特に評価指標の選び方に注意する必要があります。例えば、今回の評価指標として正解率（Accuracy）を選択すると、全て0と予測するだけで高正解率となることがわかると思います。このような適切でない評価指標を選択すると機械学習モデルがうまく学習できない原因となります。\n",
    "\n",
    "また、不均衡データへの対処として、目的変数の分布を均衡にしようとするアプローチもあります。多い方の目的変数のデータを減らす手法をアンダーサンプリング、少ない方の目的変数のデータを増やす方法をオーバーサンプリングと呼びます。"
   ]
  },
  {
   "cell_type": "code",
   "execution_count": 11,
   "metadata": {
    "colab": {
     "base_uri": "https://localhost:8080/",
     "height": 281
    },
    "executionInfo": {
     "elapsed": 456,
     "status": "ok",
     "timestamp": 1636420623633,
     "user": {
      "displayName": "Takuya Fukushima",
      "photoUrl": "https://lh3.googleusercontent.com/a-/AOh14GhR4LDFC_RMoC8DpM73KIZhKgCXA-oZ-HDU8R2wtw=s64",
      "userId": "15264897430699553304"
     },
     "user_tz": -540
    },
    "id": "8wz_F_PbCnmK",
    "outputId": "8c0fc75b-e043-42ec-cc50-32eb2fc628a0"
   },
   "outputs": [
    {
     "data": {
      "image/png": "[encoded data removed]",
      "text/plain": [
       "<Figure size 640x480 with 1 Axes>"
      ]
     },
     "metadata": {},
     "output_type": "display_data"
    }
   ],
   "source": [
    "# NAME_CONTRACT_TYPEの分布\n",
    "sns.countplot(data=train, x=\"NAME_CONTRACT_TYPE\")\n",
    "plt.show()"
   ]
  },
  {
   "cell_type": "markdown",
   "metadata": {
    "id": "_CLL0KhFCnmL"
   },
   "source": [
    "NAME_CONTRACT_TYPEには、Cash loansとRevolving loansという2種類の変数が存在しますが、大きく偏りがあることが分かります。また、機械学習モデルでは数値型のデータしか扱えないため、文字列型から数値型に変換する必要があります。"
   ]
  },
  {
   "cell_type": "code",
   "execution_count": 12,
   "metadata": {
    "colab": {
     "base_uri": "https://localhost:8080/",
     "height": 285
    },
    "executionInfo": {
     "elapsed": 1042,
     "status": "ok",
     "timestamp": 1636420624656,
     "user": {
      "displayName": "Takuya Fukushima",
      "photoUrl": "https://lh3.googleusercontent.com/a-/AOh14GhR4LDFC_RMoC8DpM73KIZhKgCXA-oZ-HDU8R2wtw=s64",
      "userId": "15264897430699553304"
     },
     "user_tz": -540
    },
    "id": "f5sFv7BPCnmL",
    "outputId": "c5b11b3a-71e6-475f-db17-a96cb6aad9f5"
   },
   "outputs": [
    {
     "data": {
      "image/png": "[encoded data removed]",
      "text/plain": [
       "<Figure size 3000x1000 with 1 Axes>"
      ]
     },
     "metadata": {},
     "output_type": "display_data"
    }
   ],
   "source": [
    "# ORGANIZATION_TYPEの分布\n",
    "plt.figure(figsize=(30, 10))\n",
    "sns.countplot(data=train, x=\"ORGANIZATION_TYPE\")\n",
    "plt.tick_params(axis=\"x\", rotation=90)\n",
    "plt.show()"
   ]
  },
  {
   "cell_type": "markdown",
   "metadata": {
    "id": "Rt51YzxOCnmL"
   },
   "source": [
    "ORGANIZATION_TYPEには多くの種類があり、データ数に偏りがあることも分かります。こちらも、文字列型の特徴量なので数値型に変換する必要があります。また、左から2番目に「XNA」という変数がありますが、名前から欠損値のことであると推測することできます。"
   ]
  },
  {
   "cell_type": "code",
   "execution_count": 13,
   "metadata": {
    "colab": {
     "base_uri": "https://localhost:8080/",
     "height": 369
    },
    "executionInfo": {
     "elapsed": 466,
     "status": "ok",
     "timestamp": 1636420625117,
     "user": {
      "displayName": "Takuya Fukushima",
      "photoUrl": "https://lh3.googleusercontent.com/a-/AOh14GhR4LDFC_RMoC8DpM73KIZhKgCXA-oZ-HDU8R2wtw=s64",
      "userId": "15264897430699553304"
     },
     "user_tz": -540
    },
    "id": "ZVlLRi4TCnmL",
    "outputId": "64f39f86-dac1-4832-e0ec-30a17428fb1c"
   },
   "outputs": [
    {
     "data": {
      "image/png": "[encoded data removed]",
      "text/plain": [
       "<Figure size 500x500 with 1 Axes>"
      ]
     },
     "metadata": {},
     "output_type": "display_data"
    }
   ],
   "source": [
    "# EXT_SOURCE_2の分布\n",
    "sns.displot(data=train, x=\"EXT_SOURCE_2\")\n",
    "plt.show()"
   ]
  },
  {
   "cell_type": "markdown",
   "metadata": {
    "id": "RaEXl1zICnmM"
   },
   "source": [
    "EXT_SOURCE_2は、0~1の範囲に正規化されていることが分かります。こちらについては、そのまま扱っても大丈夫そうです。"
   ]
  },
  {
   "cell_type": "code",
   "execution_count": 14,
   "metadata": {
    "colab": {
     "base_uri": "https://localhost:8080/",
     "height": 369
    },
    "executionInfo": {
     "elapsed": 8433,
     "status": "ok",
     "timestamp": 1636420633545,
     "user": {
      "displayName": "Takuya Fukushima",
      "photoUrl": "https://lh3.googleusercontent.com/a-/AOh14GhR4LDFC_RMoC8DpM73KIZhKgCXA-oZ-HDU8R2wtw=s64",
      "userId": "15264897430699553304"
     },
     "user_tz": -540
    },
    "id": "2WwsHs0JCnmM",
    "outputId": "b1743208-e217-40ba-ef89-84ab60db64b9"
   },
   "outputs": [
    {
     "data": {
      "image/png": "[encoded data removed]",
      "text/plain": [
       "<Figure size 500x500 with 1 Axes>"
      ]
     },
     "metadata": {},
     "output_type": "display_data"
    }
   ],
   "source": [
    "# AMT_INCOME_TOTALの分布\n",
    "sns.displot(data=train, x=\"AMT_INCOME_TOTAL\")\n",
    "plt.show()"
   ]
  },
  {
   "cell_type": "markdown",
   "metadata": {
    "id": "JQbzv0D8CnmM"
   },
   "source": [
    "AMT_INCOME_TOTALは、通常通り可視化してもうまくグラフが表示されていません。このような場合には、大きな数値を取る少数の外れ値が存在することが原因であると考えられます。今回のようなデータを可視化したい場合は、対数変換を行うと上手くグラフを表示することができます。"
   ]
  },
  {
   "cell_type": "code",
   "execution_count": 15,
   "metadata": {
    "colab": {
     "base_uri": "https://localhost:8080/",
     "height": 369
    },
    "executionInfo": {
     "elapsed": 1349,
     "status": "ok",
     "timestamp": 1636420634890,
     "user": {
      "displayName": "Takuya Fukushima",
      "photoUrl": "https://lh3.googleusercontent.com/a-/AOh14GhR4LDFC_RMoC8DpM73KIZhKgCXA-oZ-HDU8R2wtw=s64",
      "userId": "15264897430699553304"
     },
     "user_tz": -540
    },
    "id": "kgeKevDMCnmM",
    "outputId": "3b42097a-f841-41d1-be08-29e39d87e861"
   },
   "outputs": [
    {
     "data": {
      "image/png": "[encoded data removed]",
      "text/plain": [
       "<Figure size 500x500 with 1 Axes>"
      ]
     },
     "metadata": {},
     "output_type": "display_data"
    }
   ],
   "source": [
    "# AMT_INCOME_TOTALの分布（対数変換）\n",
    "sns.displot(data=train, x=\"AMT_INCOME_TOTAL\", log_scale=10)\n",
    "plt.show()"
   ]
  },
  {
   "cell_type": "markdown",
   "metadata": {
    "id": "j4r3xGRMCnmM"
   },
   "source": [
    "対数変換してグラフを描画することで、うまく表示することができました。しかし、年収というのは本来連続的な値を取るはずなのに、グラフをみると離散的な値をとっているようです。AMT_INCOME_TOTALの値の種類を確認してみましょう。"
   ]
  },
  {
   "cell_type": "code",
   "execution_count": 7,
   "metadata": {
    "colab": {
     "base_uri": "https://localhost:8080/"
    },
    "executionInfo": {
     "elapsed": 11,
     "status": "ok",
     "timestamp": 1636420634891,
     "user": {
      "displayName": "Takuya Fukushima",
      "photoUrl": "https://lh3.googleusercontent.com/a-/AOh14GhR4LDFC_RMoC8DpM73KIZhKgCXA-oZ-HDU8R2wtw=s64",
      "userId": "15264897430699553304"
     },
     "user_tz": -540
    },
    "id": "hWDiKd98CnmM",
    "outputId": "1e08b228-c24d-4f6a-f2a2-1773bc6ab152"
   },
   "outputs": [
    {
     "data": {
      "text/plain": [
       "1641"
      ]
     },
     "execution_count": 7,
     "metadata": {},
     "output_type": "execute_result"
    }
   ],
   "source": [
    "# AMT_INCOME_TOTALの値の種類を確認\n",
    "len(train[\"AMT_INCOME_TOTAL\"].unique())"
   ]
  },
  {
   "cell_type": "markdown",
   "metadata": {
    "id": "3VcQ-MEBCnmN"
   },
   "source": [
    "trainには171202個のデータが存在するのですが、AMT_INCOME_TOTALは1641種類の値のみで構成されています。具体的に上位10個の値を確認してみましょう。"
   ]
  },
  {
   "cell_type": "code",
   "execution_count": 8,
   "metadata": {
    "colab": {
     "base_uri": "https://localhost:8080/"
    },
    "executionInfo": {
     "elapsed": 7,
     "status": "ok",
     "timestamp": 1636420634891,
     "user": {
      "displayName": "Takuya Fukushima",
      "photoUrl": "https://lh3.googleusercontent.com/a-/AOh14GhR4LDFC_RMoC8DpM73KIZhKgCXA-oZ-HDU8R2wtw=s64",
      "userId": "15264897430699553304"
     },
     "user_tz": -540
    },
    "id": "s8mETFkCCnmN",
    "outputId": "28f18724-5945-4eec-bb5a-25ca4d07126c"
   },
   "outputs": [
    {
     "data": {
      "text/plain": [
       "AMT_INCOME_TOTAL\n",
       "135000.0    19969\n",
       "112500.0    17320\n",
       "157500.0    14772\n",
       "180000.0    13791\n",
       "90000.0     12481\n",
       "225000.0    11573\n",
       "202500.0     9128\n",
       "67500.0      6130\n",
       "270000.0     6006\n",
       "81000.0      3295\n",
       "Name: count, dtype: int64"
      ]
     },
     "execution_count": 8,
     "metadata": {},
     "output_type": "execute_result"
    }
   ],
   "source": [
    "# AMT_INCOME_TOTALの上位10個\n",
    "train[\"AMT_INCOME_TOTAL\"].value_counts().head(10)"
   ]
  },
  {
   "cell_type": "markdown",
   "metadata": {
    "id": "82L-z5gQCnmN"
   },
   "source": [
    "どうやらAMT_INCOME_TOTALは正確な年収ではなく、きりの良い数字で集計されたデータであることが分かりました。"
   ]
  },
  {
   "cell_type": "code",
   "execution_count": 18,
   "metadata": {
    "colab": {
     "base_uri": "https://localhost:8080/",
     "height": 369
    },
    "executionInfo": {
     "elapsed": 501,
     "status": "ok",
     "timestamp": 1636420635387,
     "user": {
      "displayName": "Takuya Fukushima",
      "photoUrl": "https://lh3.googleusercontent.com/a-/AOh14GhR4LDFC_RMoC8DpM73KIZhKgCXA-oZ-HDU8R2wtw=s64",
      "userId": "15264897430699553304"
     },
     "user_tz": -540
    },
    "id": "bXBlabmLCnmN",
    "outputId": "f322dda3-1fad-49d0-8c63-1c32cfe0f310"
   },
   "outputs": [
    {
     "data": {
      "image/png": "[encoded data removed]",
      "text/plain": [
       "<Figure size 500x500 with 1 Axes>"
      ]
     },
     "metadata": {},
     "output_type": "display_data"
    }
   ],
   "source": [
    "# OWN_CAR_AGEの分布\n",
    "sns.displot(data=train, x=\"OWN_CAR_AGE\")\n",
    "plt.show()"
   ]
  },
  {
   "cell_type": "markdown",
   "metadata": {
    "id": "LheIcW5LCnmN"
   },
   "source": [
    "OWN_CAR_AGEは、値のスケールから年単位の値をとっていることが推測できます。また、0〜40あたりまでは自然な分布ですが、60〜70付近に不自然な分布が存在していることが分かります。車の購入年数がこのように急に値が上昇するとは、考えにくいので外れ値であると考えられます。"
   ]
  },
  {
   "cell_type": "markdown",
   "metadata": {
    "id": "kl23q2zgCnmN"
   },
   "source": [
    "ここまで、各特徴量の可視化と分析を行いました。可視化をするのにも工夫が必要だったり、可視化を行うことでデータについての理解が深まることが実感できたと思います。今回扱っていない45種類の特徴量についても、今回の可視化などを参考に各自で可視化・分析を行ってみることで、必ず予測精度の向上につながると思います。"
   ]
  },
  {
   "cell_type": "markdown",
   "metadata": {},
   "source": [
    "### 追加"
   ]
  },
  {
   "cell_type": "code",
   "execution_count": 16,
   "metadata": {},
   "outputs": [
    {
     "data": {
      "image/png": "[encoded data removed]",
      "text/plain": [
       "<Figure size 500x500 with 1 Axes>"
      ]
     },
     "metadata": {},
     "output_type": "display_data"
    }
   ],
   "source": [
    "# OWN_CAR_AGEの分布\n",
    "sns.displot(data=train, x=\"AMT_REQ_CREDIT_BUREAU_YEAR\")\n",
    "plt.show()"
   ]
  },
  {
   "cell_type": "code",
   "execution_count": 36,
   "metadata": {},
   "outputs": [
    {
     "data": {
      "image/png": "[encoded data removed]",
      "text/plain": [
       "<Figure size 500x500 with 1 Axes>"
      ]
     },
     "metadata": {},
     "output_type": "display_data"
    }
   ],
   "source": [
    "\n",
    "# OWN_CAR_AGEの分布\n",
    "sns.displot(data=train, x=\"FLAG_OWN_REALTY\")\n",
    "plt.show()"
   ]
  },
  {
   "cell_type": "code",
   "execution_count": 41,
   "metadata": {},
   "outputs": [
    {
     "data": {
      "image/png": "[encoded data removed]",
      "text/plain": [
       "<Figure size 500x500 with 1 Axes>"
      ]
     },
     "metadata": {},
     "output_type": "display_data"
    }
   ],
   "source": [
    "# OWN_CAR_AGEの分布\n",
    "sns.displot(data=train, x=\"NAME_INCOME_TYPE\")\n",
    "plt.show()"
   ]
  },
  {
   "cell_type": "code",
   "execution_count": 10,
   "metadata": {},
   "outputs": [
    {
     "data": {
      "image/png": "[encoded data removed]",
      "text/plain": [
       "<Figure size 500x500 with 1 Axes>"
      ]
     },
     "metadata": {},
     "output_type": "display_data"
    }
   ],
   "source": [
    "# OWN_CAR_AGEの分布\n",
    "sns.displot(data=train, x=\"EXT_SOURCE_3\")\n",
    "plt.show()"
   ]
  },
  {
   "cell_type": "markdown",
   "metadata": {
    "id": "rsPYkguwCnmO"
   },
   "source": [
    "## 2. 前処理と特徴量作成\n",
    "ここでは、上記の可視化と分析でわかったことを踏まえて、前処理と特徴量の作成を行います。"
   ]
  },
  {
   "cell_type": "markdown",
   "metadata": {
    "id": "z0cPsOyMCnmO"
   },
   "source": [
    "EXT_SOURCE_2の欠損値を補完します。欠損値の補完には様々な手法がありますが、今回は欠損値の数が少ないので単純に平均値で補完します。"
   ]
  },
  {
   "cell_type": "code",
   "execution_count": 27,
   "metadata": {
    "colab": {
     "base_uri": "https://localhost:8080/"
    },
    "executionInfo": {
     "elapsed": 333,
     "status": "ok",
     "timestamp": 1636420635714,
     "user": {
      "displayName": "Takuya Fukushima",
      "photoUrl": "https://lh3.googleusercontent.com/a-/AOh14GhR4LDFC_RMoC8DpM73KIZhKgCXA-oZ-HDU8R2wtw=s64",
      "userId": "15264897430699553304"
     },
     "user_tz": -540
    },
    "id": "yO-iJnwLCnmO",
    "outputId": "d5a6dca3-a698-4423-f7cc-69888b4d703b"
   },
   "outputs": [
    {
     "data": {
      "text/plain": [
       "NAME_CONTRACT_TYPE                 0\n",
       "AMT_INCOME_TOTAL                   0\n",
       "EXT_SOURCE_2                       0\n",
       "OWN_CAR_AGE                   112992\n",
       "ORGANIZATION_TYPE                  0\n",
       "AMT_REQ_CREDIT_BUREAU_YEAR     23116\n",
       "EXT_SOURCE_1                  118928\n",
       "EXT_SOURCE_3                   54586\n",
       "FLAG_OWN_REALTY                34241\n",
       "TARGET                             0\n",
       "dtype: int64"
      ]
     },
     "execution_count": 27,
     "metadata": {},
     "output_type": "execute_result"
    }
   ],
   "source": [
    "# EXT_SOURCE_2の欠損値を平均値で補完\n",
    "train[\"EXT_SOURCE_2\"].fillna(train[\"EXT_SOURCE_2\"].mean(), inplace=True)\n",
    "test[\"EXT_SOURCE_2\"].fillna(train[\"EXT_SOURCE_2\"].mean(), inplace=True)\n",
    "\n",
    "train.isnull().sum()"
   ]
  },
  {
   "cell_type": "markdown",
   "metadata": {},
   "source": [
    "### 追加"
   ]
  },
  {
   "cell_type": "code",
   "execution_count": 28,
   "metadata": {},
   "outputs": [
    {
     "data": {
      "text/plain": [
       "NAME_CONTRACT_TYPE                 0\n",
       "AMT_INCOME_TOTAL                   0\n",
       "EXT_SOURCE_2                       0\n",
       "OWN_CAR_AGE                   112992\n",
       "ORGANIZATION_TYPE                  0\n",
       "AMT_REQ_CREDIT_BUREAU_YEAR     23116\n",
       "EXT_SOURCE_1                       0\n",
       "EXT_SOURCE_3                       0\n",
       "FLAG_OWN_REALTY                34241\n",
       "TARGET                             0\n",
       "dtype: int64"
      ]
     },
     "execution_count": 28,
     "metadata": {},
     "output_type": "execute_result"
    }
   ],
   "source": [
    "# EXT_SOURCE_2の欠損値を平均値で補完\n",
    "train[\"EXT_SOURCE_1\"].fillna(train[\"EXT_SOURCE_1\"].mean(), inplace=True)\n",
    "test[\"EXT_SOURCE_1\"].fillna(train[\"EXT_SOURCE_1\"].mean(), inplace=True)\n",
    "\n",
    "train[\"EXT_SOURCE_3\"].fillna(train[\"EXT_SOURCE_3\"].mean(), inplace=True)\n",
    "test[\"EXT_SOURCE_3\"].fillna(train[\"EXT_SOURCE_3\"].mean(), inplace=True)\n",
    "\n",
    "train.isnull().sum()"
   ]
  },
  {
   "cell_type": "markdown",
   "metadata": {
    "id": "DL54Ws3zCnmO"
   },
   "source": [
    "NAME_CONTRACT_TYPEを数値型に変換します。今回は、「Cash loans」を0に「Revolving loans」を1に変換します。このように、単純に整数に置き換える手法をLabel Encodingと呼びます。"
   ]
  },
  {
   "cell_type": "code",
   "execution_count": 29,
   "metadata": {
    "colab": {
     "base_uri": "https://localhost:8080/",
     "height": 241
    },
    "executionInfo": {
     "elapsed": 13,
     "status": "ok",
     "timestamp": 1636420635714,
     "user": {
      "displayName": "Takuya Fukushima",
      "photoUrl": "https://lh3.googleusercontent.com/a-/AOh14GhR4LDFC_RMoC8DpM73KIZhKgCXA-oZ-HDU8R2wtw=s64",
      "userId": "15264897430699553304"
     },
     "user_tz": -540
    },
    "id": "2C_JEPadCnmO",
    "outputId": "dd615846-a5a5-4f96-807a-5edd93e7b982"
   },
   "outputs": [
    {
     "data": {
      "text/html": [
       "<div>\n",
       "<style scoped>\n",
       "    .dataframe tbody tr th:only-of-type {\n",
       "        vertical-align: middle;\n",
       "    }\n",
       "\n",
       "    .dataframe tbody tr th {\n",
       "        vertical-align: top;\n",
       "    }\n",
       "\n",
       "    .dataframe thead th {\n",
       "        text-align: right;\n",
       "    }\n",
       "</style>\n",
       "<table border=\"1\" class=\"dataframe\">\n",
       "  <thead>\n",
       "    <tr style=\"text-align: right;\">\n",
       "      <th></th>\n",
       "      <th>NAME_CONTRACT_TYPE</th>\n",
       "      <th>AMT_INCOME_TOTAL</th>\n",
       "      <th>EXT_SOURCE_2</th>\n",
       "      <th>OWN_CAR_AGE</th>\n",
       "      <th>ORGANIZATION_TYPE</th>\n",
       "      <th>AMT_REQ_CREDIT_BUREAU_YEAR</th>\n",
       "      <th>EXT_SOURCE_1</th>\n",
       "      <th>EXT_SOURCE_3</th>\n",
       "      <th>FLAG_OWN_REALTY</th>\n",
       "      <th>TARGET</th>\n",
       "    </tr>\n",
       "  </thead>\n",
       "  <tbody>\n",
       "    <tr>\n",
       "      <th>0</th>\n",
       "      <td>0</td>\n",
       "      <td>112500.0</td>\n",
       "      <td>0.372591</td>\n",
       "      <td>NaN</td>\n",
       "      <td>School</td>\n",
       "      <td>NaN</td>\n",
       "      <td>0.501692</td>\n",
       "      <td>0.511177</td>\n",
       "      <td>N</td>\n",
       "      <td>0</td>\n",
       "    </tr>\n",
       "    <tr>\n",
       "      <th>1</th>\n",
       "      <td>0</td>\n",
       "      <td>225000.0</td>\n",
       "      <td>0.449567</td>\n",
       "      <td>NaN</td>\n",
       "      <td>XNA</td>\n",
       "      <td>1.0</td>\n",
       "      <td>0.501692</td>\n",
       "      <td>0.553165</td>\n",
       "      <td>Y</td>\n",
       "      <td>0</td>\n",
       "    </tr>\n",
       "    <tr>\n",
       "      <th>2</th>\n",
       "      <td>0</td>\n",
       "      <td>54000.0</td>\n",
       "      <td>0.569503</td>\n",
       "      <td>NaN</td>\n",
       "      <td>Postal</td>\n",
       "      <td>NaN</td>\n",
       "      <td>0.501692</td>\n",
       "      <td>0.511177</td>\n",
       "      <td>Y</td>\n",
       "      <td>0</td>\n",
       "    </tr>\n",
       "    <tr>\n",
       "      <th>3</th>\n",
       "      <td>0</td>\n",
       "      <td>67500.0</td>\n",
       "      <td>0.105235</td>\n",
       "      <td>NaN</td>\n",
       "      <td>XNA</td>\n",
       "      <td>0.0</td>\n",
       "      <td>0.501692</td>\n",
       "      <td>0.767523</td>\n",
       "      <td>Y</td>\n",
       "      <td>0</td>\n",
       "    </tr>\n",
       "    <tr>\n",
       "      <th>4</th>\n",
       "      <td>0</td>\n",
       "      <td>157500.0</td>\n",
       "      <td>0.202490</td>\n",
       "      <td>NaN</td>\n",
       "      <td>Business Entity Type 3</td>\n",
       "      <td>4.0</td>\n",
       "      <td>0.342344</td>\n",
       "      <td>0.669057</td>\n",
       "      <td>N</td>\n",
       "      <td>1</td>\n",
       "    </tr>\n",
       "  </tbody>\n",
       "</table>\n",
       "</div>"
      ],
      "text/plain": [
       "   NAME_CONTRACT_TYPE  AMT_INCOME_TOTAL  EXT_SOURCE_2  OWN_CAR_AGE  \\\n",
       "0                   0          112500.0      0.372591          NaN   \n",
       "1                   0          225000.0      0.449567          NaN   \n",
       "2                   0           54000.0      0.569503          NaN   \n",
       "3                   0           67500.0      0.105235          NaN   \n",
       "4                   0          157500.0      0.202490          NaN   \n",
       "\n",
       "        ORGANIZATION_TYPE  AMT_REQ_CREDIT_BUREAU_YEAR  EXT_SOURCE_1  \\\n",
       "0                  School                         NaN      0.501692   \n",
       "1                     XNA                         1.0      0.501692   \n",
       "2                  Postal                         NaN      0.501692   \n",
       "3                     XNA                         0.0      0.501692   \n",
       "4  Business Entity Type 3                         4.0      0.342344   \n",
       "\n",
       "   EXT_SOURCE_3 FLAG_OWN_REALTY  TARGET  \n",
       "0      0.511177               N       0  \n",
       "1      0.553165               Y       0  \n",
       "2      0.511177               Y       0  \n",
       "3      0.767523               Y       0  \n",
       "4      0.669057               N       1  "
      ]
     },
     "execution_count": 29,
     "metadata": {},
     "output_type": "execute_result"
    }
   ],
   "source": [
    "# NAME_CONTRACT_TYPEの数値化（Label Encoding）\n",
    "train[\"NAME_CONTRACT_TYPE\"].replace({'Cash loans': 0, 'Revolving loans': 1}, inplace=True)\n",
    "test[\"NAME_CONTRACT_TYPE\"].replace({'Cash loans': 0, 'Revolving loans': 1}, inplace=True)\n",
    "\n",
    "train.head(5)"
   ]
  },
  {
   "cell_type": "markdown",
   "metadata": {
    "id": "j1OpbA-yCnmO"
   },
   "source": [
    "ORGANIZATION_TYPEを数値型に変換します。今回は、変数のデータ数で数値化します。例えば、「Police」のデータ数が1279、「Bank」のデータ数が1385である場合には、「Police」を1279に、「Bank」を1385に変換します。このようにデータ数に置き換える手法をCount Encodingと呼びます。"
   ]
  },
  {
   "cell_type": "code",
   "execution_count": 30,
   "metadata": {
    "colab": {
     "base_uri": "https://localhost:8080/",
     "height": 224
    },
    "executionInfo": {
     "elapsed": 13,
     "status": "ok",
     "timestamp": 1636420635715,
     "user": {
      "displayName": "Takuya Fukushima",
      "photoUrl": "https://lh3.googleusercontent.com/a-/AOh14GhR4LDFC_RMoC8DpM73KIZhKgCXA-oZ-HDU8R2wtw=s64",
      "userId": "15264897430699553304"
     },
     "user_tz": -540
    },
    "id": "kLJPuILuCnmO",
    "outputId": "60ef707b-762f-4fc3-be1f-d247429df5bd"
   },
   "outputs": [
    {
     "data": {
      "text/html": [
       "<div>\n",
       "<style scoped>\n",
       "    .dataframe tbody tr th:only-of-type {\n",
       "        vertical-align: middle;\n",
       "    }\n",
       "\n",
       "    .dataframe tbody tr th {\n",
       "        vertical-align: top;\n",
       "    }\n",
       "\n",
       "    .dataframe thead th {\n",
       "        text-align: right;\n",
       "    }\n",
       "</style>\n",
       "<table border=\"1\" class=\"dataframe\">\n",
       "  <thead>\n",
       "    <tr style=\"text-align: right;\">\n",
       "      <th></th>\n",
       "      <th>NAME_CONTRACT_TYPE</th>\n",
       "      <th>AMT_INCOME_TOTAL</th>\n",
       "      <th>EXT_SOURCE_2</th>\n",
       "      <th>OWN_CAR_AGE</th>\n",
       "      <th>ORGANIZATION_TYPE</th>\n",
       "      <th>AMT_REQ_CREDIT_BUREAU_YEAR</th>\n",
       "      <th>EXT_SOURCE_1</th>\n",
       "      <th>EXT_SOURCE_3</th>\n",
       "      <th>FLAG_OWN_REALTY</th>\n",
       "      <th>TARGET</th>\n",
       "    </tr>\n",
       "  </thead>\n",
       "  <tbody>\n",
       "    <tr>\n",
       "      <th>0</th>\n",
       "      <td>0</td>\n",
       "      <td>112500.0</td>\n",
       "      <td>0.372591</td>\n",
       "      <td>NaN</td>\n",
       "      <td>4991</td>\n",
       "      <td>NaN</td>\n",
       "      <td>0.501692</td>\n",
       "      <td>0.511177</td>\n",
       "      <td>N</td>\n",
       "      <td>0</td>\n",
       "    </tr>\n",
       "    <tr>\n",
       "      <th>1</th>\n",
       "      <td>0</td>\n",
       "      <td>225000.0</td>\n",
       "      <td>0.449567</td>\n",
       "      <td>NaN</td>\n",
       "      <td>30898</td>\n",
       "      <td>1.0</td>\n",
       "      <td>0.501692</td>\n",
       "      <td>0.553165</td>\n",
       "      <td>Y</td>\n",
       "      <td>0</td>\n",
       "    </tr>\n",
       "    <tr>\n",
       "      <th>2</th>\n",
       "      <td>0</td>\n",
       "      <td>54000.0</td>\n",
       "      <td>0.569503</td>\n",
       "      <td>NaN</td>\n",
       "      <td>1185</td>\n",
       "      <td>NaN</td>\n",
       "      <td>0.501692</td>\n",
       "      <td>0.511177</td>\n",
       "      <td>Y</td>\n",
       "      <td>0</td>\n",
       "    </tr>\n",
       "    <tr>\n",
       "      <th>3</th>\n",
       "      <td>0</td>\n",
       "      <td>67500.0</td>\n",
       "      <td>0.105235</td>\n",
       "      <td>NaN</td>\n",
       "      <td>30898</td>\n",
       "      <td>0.0</td>\n",
       "      <td>0.501692</td>\n",
       "      <td>0.767523</td>\n",
       "      <td>Y</td>\n",
       "      <td>0</td>\n",
       "    </tr>\n",
       "    <tr>\n",
       "      <th>4</th>\n",
       "      <td>0</td>\n",
       "      <td>157500.0</td>\n",
       "      <td>0.202490</td>\n",
       "      <td>NaN</td>\n",
       "      <td>37943</td>\n",
       "      <td>4.0</td>\n",
       "      <td>0.342344</td>\n",
       "      <td>0.669057</td>\n",
       "      <td>N</td>\n",
       "      <td>1</td>\n",
       "    </tr>\n",
       "  </tbody>\n",
       "</table>\n",
       "</div>"
      ],
      "text/plain": [
       "   NAME_CONTRACT_TYPE  AMT_INCOME_TOTAL  EXT_SOURCE_2  OWN_CAR_AGE  \\\n",
       "0                   0          112500.0      0.372591          NaN   \n",
       "1                   0          225000.0      0.449567          NaN   \n",
       "2                   0           54000.0      0.569503          NaN   \n",
       "3                   0           67500.0      0.105235          NaN   \n",
       "4                   0          157500.0      0.202490          NaN   \n",
       "\n",
       "   ORGANIZATION_TYPE  AMT_REQ_CREDIT_BUREAU_YEAR  EXT_SOURCE_1  EXT_SOURCE_3  \\\n",
       "0               4991                         NaN      0.501692      0.511177   \n",
       "1              30898                         1.0      0.501692      0.553165   \n",
       "2               1185                         NaN      0.501692      0.511177   \n",
       "3              30898                         0.0      0.501692      0.767523   \n",
       "4              37943                         4.0      0.342344      0.669057   \n",
       "\n",
       "  FLAG_OWN_REALTY  TARGET  \n",
       "0               N       0  \n",
       "1               Y       0  \n",
       "2               Y       0  \n",
       "3               Y       0  \n",
       "4               N       1  "
      ]
     },
     "execution_count": 30,
     "metadata": {},
     "output_type": "execute_result"
    }
   ],
   "source": [
    "# ORGANIZATION_TYPEの数値化（Count Encoding）\n",
    "organization_ce = train[\"ORGANIZATION_TYPE\"].value_counts()\n",
    "train[\"ORGANIZATION_TYPE\"] = train[\"ORGANIZATION_TYPE\"].map(organization_ce)\n",
    "test[\"ORGANIZATION_TYPE\"] = test[\"ORGANIZATION_TYPE\"].map(organization_ce)\n",
    "\n",
    "train.head(5)"
   ]
  },
  {
   "cell_type": "markdown",
   "metadata": {
    "id": "OtdYByRsCnmP"
   },
   "source": [
    "OWN_CAR_AGEの処理を行います。まず、不自然な60以上の外れ値を欠損値として置き換えます。"
   ]
  },
  {
   "cell_type": "code",
   "execution_count": 31,
   "metadata": {
    "id": "7-ojzBAtCnmP"
   },
   "outputs": [
    {
     "data": {
      "text/html": [
       "<div>\n",
       "<style scoped>\n",
       "    .dataframe tbody tr th:only-of-type {\n",
       "        vertical-align: middle;\n",
       "    }\n",
       "\n",
       "    .dataframe tbody tr th {\n",
       "        vertical-align: top;\n",
       "    }\n",
       "\n",
       "    .dataframe thead th {\n",
       "        text-align: right;\n",
       "    }\n",
       "</style>\n",
       "<table border=\"1\" class=\"dataframe\">\n",
       "  <thead>\n",
       "    <tr style=\"text-align: right;\">\n",
       "      <th></th>\n",
       "      <th>NAME_CONTRACT_TYPE</th>\n",
       "      <th>AMT_INCOME_TOTAL</th>\n",
       "      <th>EXT_SOURCE_2</th>\n",
       "      <th>OWN_CAR_AGE</th>\n",
       "      <th>ORGANIZATION_TYPE</th>\n",
       "      <th>AMT_REQ_CREDIT_BUREAU_YEAR</th>\n",
       "      <th>EXT_SOURCE_1</th>\n",
       "      <th>EXT_SOURCE_3</th>\n",
       "      <th>FLAG_OWN_REALTY</th>\n",
       "      <th>TARGET</th>\n",
       "    </tr>\n",
       "  </thead>\n",
       "  <tbody>\n",
       "    <tr>\n",
       "      <th>0</th>\n",
       "      <td>0</td>\n",
       "      <td>112500.0</td>\n",
       "      <td>0.372591</td>\n",
       "      <td>NaN</td>\n",
       "      <td>4991</td>\n",
       "      <td>NaN</td>\n",
       "      <td>0.501692</td>\n",
       "      <td>0.511177</td>\n",
       "      <td>N</td>\n",
       "      <td>0</td>\n",
       "    </tr>\n",
       "    <tr>\n",
       "      <th>1</th>\n",
       "      <td>0</td>\n",
       "      <td>225000.0</td>\n",
       "      <td>0.449567</td>\n",
       "      <td>NaN</td>\n",
       "      <td>30898</td>\n",
       "      <td>1.0</td>\n",
       "      <td>0.501692</td>\n",
       "      <td>0.553165</td>\n",
       "      <td>Y</td>\n",
       "      <td>0</td>\n",
       "    </tr>\n",
       "    <tr>\n",
       "      <th>2</th>\n",
       "      <td>0</td>\n",
       "      <td>54000.0</td>\n",
       "      <td>0.569503</td>\n",
       "      <td>NaN</td>\n",
       "      <td>1185</td>\n",
       "      <td>NaN</td>\n",
       "      <td>0.501692</td>\n",
       "      <td>0.511177</td>\n",
       "      <td>Y</td>\n",
       "      <td>0</td>\n",
       "    </tr>\n",
       "    <tr>\n",
       "      <th>3</th>\n",
       "      <td>0</td>\n",
       "      <td>67500.0</td>\n",
       "      <td>0.105235</td>\n",
       "      <td>NaN</td>\n",
       "      <td>30898</td>\n",
       "      <td>0.0</td>\n",
       "      <td>0.501692</td>\n",
       "      <td>0.767523</td>\n",
       "      <td>Y</td>\n",
       "      <td>0</td>\n",
       "    </tr>\n",
       "    <tr>\n",
       "      <th>4</th>\n",
       "      <td>0</td>\n",
       "      <td>157500.0</td>\n",
       "      <td>0.202490</td>\n",
       "      <td>NaN</td>\n",
       "      <td>37943</td>\n",
       "      <td>4.0</td>\n",
       "      <td>0.342344</td>\n",
       "      <td>0.669057</td>\n",
       "      <td>N</td>\n",
       "      <td>1</td>\n",
       "    </tr>\n",
       "  </tbody>\n",
       "</table>\n",
       "</div>"
      ],
      "text/plain": [
       "   NAME_CONTRACT_TYPE  AMT_INCOME_TOTAL  EXT_SOURCE_2  OWN_CAR_AGE  \\\n",
       "0                   0          112500.0      0.372591          NaN   \n",
       "1                   0          225000.0      0.449567          NaN   \n",
       "2                   0           54000.0      0.569503          NaN   \n",
       "3                   0           67500.0      0.105235          NaN   \n",
       "4                   0          157500.0      0.202490          NaN   \n",
       "\n",
       "   ORGANIZATION_TYPE  AMT_REQ_CREDIT_BUREAU_YEAR  EXT_SOURCE_1  EXT_SOURCE_3  \\\n",
       "0               4991                         NaN      0.501692      0.511177   \n",
       "1              30898                         1.0      0.501692      0.553165   \n",
       "2               1185                         NaN      0.501692      0.511177   \n",
       "3              30898                         0.0      0.501692      0.767523   \n",
       "4              37943                         4.0      0.342344      0.669057   \n",
       "\n",
       "  FLAG_OWN_REALTY  TARGET  \n",
       "0               N       0  \n",
       "1               Y       0  \n",
       "2               Y       0  \n",
       "3               Y       0  \n",
       "4               N       1  "
      ]
     },
     "execution_count": 31,
     "metadata": {},
     "output_type": "execute_result"
    }
   ],
   "source": [
    "# OWN_CAR_AGEの60以上の値（外れ値）を欠損値扱いする\n",
    "train.loc[train[\"OWN_CAR_AGE\"] >= 60, \"OWN_CAR_AGE\"] = np.nan\n",
    "test.loc[test[\"OWN_CAR_AGE\"] >= 60, \"OWN_CAR_AGE\"] = np.nan\n",
    "\n",
    "train.head(5)"
   ]
  },
  {
   "cell_type": "markdown",
   "metadata": {
    "id": "aUbZ-qsiCnmP"
   },
   "source": [
    "次に、OWN_CAR_AGEの欠損値の処理について考えます。元々のOWN_CAR_AGEにはデータ数171202に対して欠損値が112992個ありました。このように欠損値が多い場合には、適切に欠損値を補完することは難しく現実的ではありません。そのため、今回はOWN_CAR_AGEを0～9年、10～19年のように10年単位でグループ分けした後に、One Hot Encodingを行うことで欠損値の対処を行います。"
   ]
  },
  {
   "cell_type": "code",
   "execution_count": 32,
   "metadata": {
    "colab": {
     "base_uri": "https://localhost:8080/"
    },
    "executionInfo": {
     "elapsed": 12,
     "status": "ok",
     "timestamp": 1636420635716,
     "user": {
      "displayName": "Takuya Fukushima",
      "photoUrl": "https://lh3.googleusercontent.com/a-/AOh14GhR4LDFC_RMoC8DpM73KIZhKgCXA-oZ-HDU8R2wtw=s64",
      "userId": "15264897430699553304"
     },
     "user_tz": -540
    },
    "id": "8bHTyLv_CnmP",
    "outputId": "3b8c3398-e742-4fa0-c271-c06ba606f0c9"
   },
   "outputs": [
    {
     "data": {
      "text/plain": [
       "array([nan,  0.,  2.,  1.,  3.,  4.,  5.])"
      ]
     },
     "execution_count": 32,
     "metadata": {},
     "output_type": "execute_result"
    }
   ],
   "source": [
    "# OWN_CAR_AGEをグループ分け\n",
    "train[\"OWN_CAR_AGE\"] = train[\"OWN_CAR_AGE\"] // 10\n",
    "test[\"OWN_CAR_AGE\"] = test[\"OWN_CAR_AGE\"] // 10\n",
    "\n",
    "train[\"OWN_CAR_AGE\"].unique()"
   ]
  },
  {
   "cell_type": "markdown",
   "metadata": {},
   "source": [
    "### 追加"
   ]
  },
  {
   "cell_type": "code",
   "execution_count": 33,
   "metadata": {},
   "outputs": [
    {
     "data": {
      "text/plain": [
       "array([nan,  1.,  0.,  4.,  3.,  2.,  6.,  5.,  7.,  9.,  8.])"
      ]
     },
     "execution_count": 33,
     "metadata": {},
     "output_type": "execute_result"
    }
   ],
   "source": [
    "train.loc[train[\"AMT_REQ_CREDIT_BUREAU_YEAR\"] >= 10, \"AMT_REQ_CREDIT_BUREAU_YEAR\"] = np.nan\n",
    "test.loc[test[\"AMT_REQ_CREDIT_BUREAU_YEAR\"] >= 10, \"AMT_REQ_CREDIT_BUREAU_YEAR\"] = np.nan\n",
    "\n",
    "train[\"AMT_REQ_CREDIT_BUREAU_YEAR\"].unique()"
   ]
  },
  {
   "cell_type": "code",
   "execution_count": 34,
   "metadata": {
    "colab": {
     "base_uri": "https://localhost:8080/",
     "height": 224
    },
    "executionInfo": {
     "elapsed": 300,
     "status": "ok",
     "timestamp": 1636420636007,
     "user": {
      "displayName": "Takuya Fukushima",
      "photoUrl": "https://lh3.googleusercontent.com/a-/AOh14GhR4LDFC_RMoC8DpM73KIZhKgCXA-oZ-HDU8R2wtw=s64",
      "userId": "15264897430699553304"
     },
     "user_tz": -540
    },
    "id": "GIcCvBHvCnmP",
    "outputId": "c4de2108-114a-4b82-a009-ac13d6df360f"
   },
   "outputs": [
    {
     "data": {
      "text/html": [
       "<div>\n",
       "<style scoped>\n",
       "    .dataframe tbody tr th:only-of-type {\n",
       "        vertical-align: middle;\n",
       "    }\n",
       "\n",
       "    .dataframe tbody tr th {\n",
       "        vertical-align: top;\n",
       "    }\n",
       "\n",
       "    .dataframe thead th {\n",
       "        text-align: right;\n",
       "    }\n",
       "</style>\n",
       "<table border=\"1\" class=\"dataframe\">\n",
       "  <thead>\n",
       "    <tr style=\"text-align: right;\">\n",
       "      <th></th>\n",
       "      <th>NAME_CONTRACT_TYPE</th>\n",
       "      <th>AMT_INCOME_TOTAL</th>\n",
       "      <th>EXT_SOURCE_2</th>\n",
       "      <th>ORGANIZATION_TYPE</th>\n",
       "      <th>AMT_REQ_CREDIT_BUREAU_YEAR</th>\n",
       "      <th>EXT_SOURCE_1</th>\n",
       "      <th>EXT_SOURCE_3</th>\n",
       "      <th>FLAG_OWN_REALTY</th>\n",
       "      <th>TARGET</th>\n",
       "      <th>OWN_CAR_AGE_0.0</th>\n",
       "      <th>OWN_CAR_AGE_1.0</th>\n",
       "      <th>OWN_CAR_AGE_2.0</th>\n",
       "      <th>OWN_CAR_AGE_3.0</th>\n",
       "      <th>OWN_CAR_AGE_4.0</th>\n",
       "      <th>OWN_CAR_AGE_5.0</th>\n",
       "    </tr>\n",
       "  </thead>\n",
       "  <tbody>\n",
       "    <tr>\n",
       "      <th>0</th>\n",
       "      <td>0</td>\n",
       "      <td>112500.0</td>\n",
       "      <td>0.372591</td>\n",
       "      <td>4991</td>\n",
       "      <td>NaN</td>\n",
       "      <td>0.501692</td>\n",
       "      <td>0.511177</td>\n",
       "      <td>N</td>\n",
       "      <td>0</td>\n",
       "      <td>False</td>\n",
       "      <td>False</td>\n",
       "      <td>False</td>\n",
       "      <td>False</td>\n",
       "      <td>False</td>\n",
       "      <td>False</td>\n",
       "    </tr>\n",
       "    <tr>\n",
       "      <th>1</th>\n",
       "      <td>0</td>\n",
       "      <td>225000.0</td>\n",
       "      <td>0.449567</td>\n",
       "      <td>30898</td>\n",
       "      <td>1.0</td>\n",
       "      <td>0.501692</td>\n",
       "      <td>0.553165</td>\n",
       "      <td>Y</td>\n",
       "      <td>0</td>\n",
       "      <td>False</td>\n",
       "      <td>False</td>\n",
       "      <td>False</td>\n",
       "      <td>False</td>\n",
       "      <td>False</td>\n",
       "      <td>False</td>\n",
       "    </tr>\n",
       "    <tr>\n",
       "      <th>2</th>\n",
       "      <td>0</td>\n",
       "      <td>54000.0</td>\n",
       "      <td>0.569503</td>\n",
       "      <td>1185</td>\n",
       "      <td>NaN</td>\n",
       "      <td>0.501692</td>\n",
       "      <td>0.511177</td>\n",
       "      <td>Y</td>\n",
       "      <td>0</td>\n",
       "      <td>False</td>\n",
       "      <td>False</td>\n",
       "      <td>False</td>\n",
       "      <td>False</td>\n",
       "      <td>False</td>\n",
       "      <td>False</td>\n",
       "    </tr>\n",
       "    <tr>\n",
       "      <th>3</th>\n",
       "      <td>0</td>\n",
       "      <td>67500.0</td>\n",
       "      <td>0.105235</td>\n",
       "      <td>30898</td>\n",
       "      <td>0.0</td>\n",
       "      <td>0.501692</td>\n",
       "      <td>0.767523</td>\n",
       "      <td>Y</td>\n",
       "      <td>0</td>\n",
       "      <td>False</td>\n",
       "      <td>False</td>\n",
       "      <td>False</td>\n",
       "      <td>False</td>\n",
       "      <td>False</td>\n",
       "      <td>False</td>\n",
       "    </tr>\n",
       "    <tr>\n",
       "      <th>4</th>\n",
       "      <td>0</td>\n",
       "      <td>157500.0</td>\n",
       "      <td>0.202490</td>\n",
       "      <td>37943</td>\n",
       "      <td>4.0</td>\n",
       "      <td>0.342344</td>\n",
       "      <td>0.669057</td>\n",
       "      <td>N</td>\n",
       "      <td>1</td>\n",
       "      <td>False</td>\n",
       "      <td>False</td>\n",
       "      <td>False</td>\n",
       "      <td>False</td>\n",
       "      <td>False</td>\n",
       "      <td>False</td>\n",
       "    </tr>\n",
       "  </tbody>\n",
       "</table>\n",
       "</div>"
      ],
      "text/plain": [
       "   NAME_CONTRACT_TYPE  AMT_INCOME_TOTAL  EXT_SOURCE_2  ORGANIZATION_TYPE  \\\n",
       "0                   0          112500.0      0.372591               4991   \n",
       "1                   0          225000.0      0.449567              30898   \n",
       "2                   0           54000.0      0.569503               1185   \n",
       "3                   0           67500.0      0.105235              30898   \n",
       "4                   0          157500.0      0.202490              37943   \n",
       "\n",
       "   AMT_REQ_CREDIT_BUREAU_YEAR  EXT_SOURCE_1  EXT_SOURCE_3 FLAG_OWN_REALTY  \\\n",
       "0                         NaN      0.501692      0.511177               N   \n",
       "1                         1.0      0.501692      0.553165               Y   \n",
       "2                         NaN      0.501692      0.511177               Y   \n",
       "3                         0.0      0.501692      0.767523               Y   \n",
       "4                         4.0      0.342344      0.669057               N   \n",
       "\n",
       "   TARGET  OWN_CAR_AGE_0.0  OWN_CAR_AGE_1.0  OWN_CAR_AGE_2.0  OWN_CAR_AGE_3.0  \\\n",
       "0       0            False            False            False            False   \n",
       "1       0            False            False            False            False   \n",
       "2       0            False            False            False            False   \n",
       "3       0            False            False            False            False   \n",
       "4       1            False            False            False            False   \n",
       "\n",
       "   OWN_CAR_AGE_4.0  OWN_CAR_AGE_5.0  \n",
       "0            False            False  \n",
       "1            False            False  \n",
       "2            False            False  \n",
       "3            False            False  \n",
       "4            False            False  "
      ]
     },
     "execution_count": 34,
     "metadata": {},
     "output_type": "execute_result"
    }
   ],
   "source": [
    "# OWN_CAR_AGEをOne Hot Encoding\n",
    "train_car_age_ohe = pd.get_dummies(train[\"OWN_CAR_AGE\"]).add_prefix(\"OWN_CAR_AGE_\")\n",
    "test_car_age_ohe = pd.get_dummies(test[\"OWN_CAR_AGE\"]).add_prefix(\"OWN_CAR_AGE_\")\n",
    "\n",
    "train = pd.concat([train, train_car_age_ohe], axis=1)\n",
    "test = pd.concat([test, test_car_age_ohe], axis=1)\n",
    "\n",
    "train.drop('OWN_CAR_AGE', axis=1, inplace=True)\n",
    "test.drop('OWN_CAR_AGE', axis=1, inplace=True)\n",
    "\n",
    "train.head(5)"
   ]
  },
  {
   "cell_type": "code",
   "execution_count": 35,
   "metadata": {},
   "outputs": [
    {
     "data": {
      "text/plain": [
       "NAME_CONTRACT_TYPE                0\n",
       "AMT_INCOME_TOTAL                  0\n",
       "EXT_SOURCE_2                      0\n",
       "ORGANIZATION_TYPE                 0\n",
       "AMT_REQ_CREDIT_BUREAU_YEAR    23202\n",
       "EXT_SOURCE_1                      0\n",
       "EXT_SOURCE_3                      0\n",
       "FLAG_OWN_REALTY                   0\n",
       "TARGET                            0\n",
       "OWN_CAR_AGE_0.0                   0\n",
       "OWN_CAR_AGE_1.0                   0\n",
       "OWN_CAR_AGE_2.0                   0\n",
       "OWN_CAR_AGE_3.0                   0\n",
       "OWN_CAR_AGE_4.0                   0\n",
       "OWN_CAR_AGE_5.0                   0\n",
       "dtype: int64"
      ]
     },
     "execution_count": 35,
     "metadata": {},
     "output_type": "execute_result"
    }
   ],
   "source": [
    "train[\"FLAG_OWN_REALTY\"].fillna(\"N\", inplace=True)\n",
    "test[\"FLAG_OWN_REALTY\"].fillna(\"N\", inplace=True)\n",
    "\n",
    "train[\"FLAG_OWN_REALTY\"].replace({'N': 0, 'Y': 1}, inplace=True)\n",
    "test[\"FLAG_OWN_REALTY\"].replace({'N': 0, 'Y': 1}, inplace=True)\n",
    "\n",
    "\n",
    "train.isnull().sum()"
   ]
  },
  {
   "cell_type": "markdown",
   "metadata": {},
   "source": [
    "### 追加"
   ]
  },
  {
   "cell_type": "code",
   "execution_count": 36,
   "metadata": {},
   "outputs": [
    {
     "data": {
      "text/html": [
       "<div>\n",
       "<style scoped>\n",
       "    .dataframe tbody tr th:only-of-type {\n",
       "        vertical-align: middle;\n",
       "    }\n",
       "\n",
       "    .dataframe tbody tr th {\n",
       "        vertical-align: top;\n",
       "    }\n",
       "\n",
       "    .dataframe thead th {\n",
       "        text-align: right;\n",
       "    }\n",
       "</style>\n",
       "<table border=\"1\" class=\"dataframe\">\n",
       "  <thead>\n",
       "    <tr style=\"text-align: right;\">\n",
       "      <th></th>\n",
       "      <th>NAME_CONTRACT_TYPE</th>\n",
       "      <th>AMT_INCOME_TOTAL</th>\n",
       "      <th>EXT_SOURCE_2</th>\n",
       "      <th>ORGANIZATION_TYPE</th>\n",
       "      <th>EXT_SOURCE_1</th>\n",
       "      <th>EXT_SOURCE_3</th>\n",
       "      <th>FLAG_OWN_REALTY</th>\n",
       "      <th>TARGET</th>\n",
       "      <th>OWN_CAR_AGE_0.0</th>\n",
       "      <th>OWN_CAR_AGE_1.0</th>\n",
       "      <th>...</th>\n",
       "      <th>AMT_REQ_CREDIT_BUREAU_YEAR_0.0</th>\n",
       "      <th>AMT_REQ_CREDIT_BUREAU_YEAR_1.0</th>\n",
       "      <th>AMT_REQ_CREDIT_BUREAU_YEAR_2.0</th>\n",
       "      <th>AMT_REQ_CREDIT_BUREAU_YEAR_3.0</th>\n",
       "      <th>AMT_REQ_CREDIT_BUREAU_YEAR_4.0</th>\n",
       "      <th>AMT_REQ_CREDIT_BUREAU_YEAR_5.0</th>\n",
       "      <th>AMT_REQ_CREDIT_BUREAU_YEAR_6.0</th>\n",
       "      <th>AMT_REQ_CREDIT_BUREAU_YEAR_7.0</th>\n",
       "      <th>AMT_REQ_CREDIT_BUREAU_YEAR_8.0</th>\n",
       "      <th>AMT_REQ_CREDIT_BUREAU_YEAR_9.0</th>\n",
       "    </tr>\n",
       "  </thead>\n",
       "  <tbody>\n",
       "    <tr>\n",
       "      <th>0</th>\n",
       "      <td>0</td>\n",
       "      <td>112500.0</td>\n",
       "      <td>0.372591</td>\n",
       "      <td>4991</td>\n",
       "      <td>0.501692</td>\n",
       "      <td>0.511177</td>\n",
       "      <td>0</td>\n",
       "      <td>0</td>\n",
       "      <td>False</td>\n",
       "      <td>False</td>\n",
       "      <td>...</td>\n",
       "      <td>False</td>\n",
       "      <td>False</td>\n",
       "      <td>False</td>\n",
       "      <td>False</td>\n",
       "      <td>False</td>\n",
       "      <td>False</td>\n",
       "      <td>False</td>\n",
       "      <td>False</td>\n",
       "      <td>False</td>\n",
       "      <td>False</td>\n",
       "    </tr>\n",
       "    <tr>\n",
       "      <th>1</th>\n",
       "      <td>0</td>\n",
       "      <td>225000.0</td>\n",
       "      <td>0.449567</td>\n",
       "      <td>30898</td>\n",
       "      <td>0.501692</td>\n",
       "      <td>0.553165</td>\n",
       "      <td>1</td>\n",
       "      <td>0</td>\n",
       "      <td>False</td>\n",
       "      <td>False</td>\n",
       "      <td>...</td>\n",
       "      <td>False</td>\n",
       "      <td>True</td>\n",
       "      <td>False</td>\n",
       "      <td>False</td>\n",
       "      <td>False</td>\n",
       "      <td>False</td>\n",
       "      <td>False</td>\n",
       "      <td>False</td>\n",
       "      <td>False</td>\n",
       "      <td>False</td>\n",
       "    </tr>\n",
       "    <tr>\n",
       "      <th>2</th>\n",
       "      <td>0</td>\n",
       "      <td>54000.0</td>\n",
       "      <td>0.569503</td>\n",
       "      <td>1185</td>\n",
       "      <td>0.501692</td>\n",
       "      <td>0.511177</td>\n",
       "      <td>1</td>\n",
       "      <td>0</td>\n",
       "      <td>False</td>\n",
       "      <td>False</td>\n",
       "      <td>...</td>\n",
       "      <td>False</td>\n",
       "      <td>False</td>\n",
       "      <td>False</td>\n",
       "      <td>False</td>\n",
       "      <td>False</td>\n",
       "      <td>False</td>\n",
       "      <td>False</td>\n",
       "      <td>False</td>\n",
       "      <td>False</td>\n",
       "      <td>False</td>\n",
       "    </tr>\n",
       "    <tr>\n",
       "      <th>3</th>\n",
       "      <td>0</td>\n",
       "      <td>67500.0</td>\n",
       "      <td>0.105235</td>\n",
       "      <td>30898</td>\n",
       "      <td>0.501692</td>\n",
       "      <td>0.767523</td>\n",
       "      <td>1</td>\n",
       "      <td>0</td>\n",
       "      <td>False</td>\n",
       "      <td>False</td>\n",
       "      <td>...</td>\n",
       "      <td>True</td>\n",
       "      <td>False</td>\n",
       "      <td>False</td>\n",
       "      <td>False</td>\n",
       "      <td>False</td>\n",
       "      <td>False</td>\n",
       "      <td>False</td>\n",
       "      <td>False</td>\n",
       "      <td>False</td>\n",
       "      <td>False</td>\n",
       "    </tr>\n",
       "    <tr>\n",
       "      <th>4</th>\n",
       "      <td>0</td>\n",
       "      <td>157500.0</td>\n",
       "      <td>0.202490</td>\n",
       "      <td>37943</td>\n",
       "      <td>0.342344</td>\n",
       "      <td>0.669057</td>\n",
       "      <td>0</td>\n",
       "      <td>1</td>\n",
       "      <td>False</td>\n",
       "      <td>False</td>\n",
       "      <td>...</td>\n",
       "      <td>False</td>\n",
       "      <td>False</td>\n",
       "      <td>False</td>\n",
       "      <td>False</td>\n",
       "      <td>True</td>\n",
       "      <td>False</td>\n",
       "      <td>False</td>\n",
       "      <td>False</td>\n",
       "      <td>False</td>\n",
       "      <td>False</td>\n",
       "    </tr>\n",
       "  </tbody>\n",
       "</table>\n",
       "<p>5 rows × 24 columns</p>\n",
       "</div>"
      ],
      "text/plain": [
       "   NAME_CONTRACT_TYPE  AMT_INCOME_TOTAL  EXT_SOURCE_2  ORGANIZATION_TYPE  \\\n",
       "0                   0          112500.0      0.372591               4991   \n",
       "1                   0          225000.0      0.449567              30898   \n",
       "2                   0           54000.0      0.569503               1185   \n",
       "3                   0           67500.0      0.105235              30898   \n",
       "4                   0          157500.0      0.202490              37943   \n",
       "\n",
       "   EXT_SOURCE_1  EXT_SOURCE_3  FLAG_OWN_REALTY  TARGET  OWN_CAR_AGE_0.0  \\\n",
       "0      0.501692      0.511177                0       0            False   \n",
       "1      0.501692      0.553165                1       0            False   \n",
       "2      0.501692      0.511177                1       0            False   \n",
       "3      0.501692      0.767523                1       0            False   \n",
       "4      0.342344      0.669057                0       1            False   \n",
       "\n",
       "   OWN_CAR_AGE_1.0  ...  AMT_REQ_CREDIT_BUREAU_YEAR_0.0  \\\n",
       "0            False  ...                           False   \n",
       "1            False  ...                           False   \n",
       "2            False  ...                           False   \n",
       "3            False  ...                            True   \n",
       "4            False  ...                           False   \n",
       "\n",
       "   AMT_REQ_CREDIT_BUREAU_YEAR_1.0  AMT_REQ_CREDIT_BUREAU_YEAR_2.0  \\\n",
       "0                           False                           False   \n",
       "1                            True                           False   \n",
       "2                           False                           False   \n",
       "3                           False                           False   \n",
       "4                           False                           False   \n",
       "\n",
       "   AMT_REQ_CREDIT_BUREAU_YEAR_3.0  AMT_REQ_CREDIT_BUREAU_YEAR_4.0  \\\n",
       "0                           False                           False   \n",
       "1                           False                           False   \n",
       "2                           False                           False   \n",
       "3                           False                           False   \n",
       "4                           False                            True   \n",
       "\n",
       "   AMT_REQ_CREDIT_BUREAU_YEAR_5.0  AMT_REQ_CREDIT_BUREAU_YEAR_6.0  \\\n",
       "0                           False                           False   \n",
       "1                           False                           False   \n",
       "2                           False                           False   \n",
       "3                           False                           False   \n",
       "4                           False                           False   \n",
       "\n",
       "   AMT_REQ_CREDIT_BUREAU_YEAR_7.0  AMT_REQ_CREDIT_BUREAU_YEAR_8.0  \\\n",
       "0                           False                           False   \n",
       "1                           False                           False   \n",
       "2                           False                           False   \n",
       "3                           False                           False   \n",
       "4                           False                           False   \n",
       "\n",
       "   AMT_REQ_CREDIT_BUREAU_YEAR_9.0  \n",
       "0                           False  \n",
       "1                           False  \n",
       "2                           False  \n",
       "3                           False  \n",
       "4                           False  \n",
       "\n",
       "[5 rows x 24 columns]"
      ]
     },
     "execution_count": 36,
     "metadata": {},
     "output_type": "execute_result"
    }
   ],
   "source": [
    "# OWN_CAR_AGEをOne Hot Encoding\n",
    "train_bureau_year_ohe = pd.get_dummies(train[\"AMT_REQ_CREDIT_BUREAU_YEAR\"]).add_prefix(\"AMT_REQ_CREDIT_BUREAU_YEAR_\")\n",
    "test_bureau_year_ohe = pd.get_dummies(test[\"AMT_REQ_CREDIT_BUREAU_YEAR\"]).add_prefix(\"AMT_REQ_CREDIT_BUREAU_YEAR_\")\n",
    "\n",
    "train = pd.concat([train, train_bureau_year_ohe], axis=1)\n",
    "test = pd.concat([test, test_bureau_year_ohe], axis=1)\n",
    "\n",
    "train.drop('AMT_REQ_CREDIT_BUREAU_YEAR', axis=1, inplace=True)\n",
    "test.drop('AMT_REQ_CREDIT_BUREAU_YEAR', axis=1, inplace=True)\n",
    "\n",
    "train.head(5)"
   ]
  },
  {
   "cell_type": "code",
   "execution_count": 37,
   "metadata": {},
   "outputs": [
    {
     "data": {
      "text/plain": [
       "NAME_CONTRACT_TYPE                0\n",
       "AMT_INCOME_TOTAL                  0\n",
       "EXT_SOURCE_2                      0\n",
       "ORGANIZATION_TYPE                 0\n",
       "EXT_SOURCE_1                      0\n",
       "EXT_SOURCE_3                      0\n",
       "FLAG_OWN_REALTY                   0\n",
       "TARGET                            0\n",
       "OWN_CAR_AGE_0.0                   0\n",
       "OWN_CAR_AGE_1.0                   0\n",
       "OWN_CAR_AGE_2.0                   0\n",
       "OWN_CAR_AGE_3.0                   0\n",
       "OWN_CAR_AGE_4.0                   0\n",
       "OWN_CAR_AGE_5.0                   0\n",
       "AMT_REQ_CREDIT_BUREAU_YEAR_0.0    0\n",
       "AMT_REQ_CREDIT_BUREAU_YEAR_1.0    0\n",
       "AMT_REQ_CREDIT_BUREAU_YEAR_2.0    0\n",
       "AMT_REQ_CREDIT_BUREAU_YEAR_3.0    0\n",
       "AMT_REQ_CREDIT_BUREAU_YEAR_4.0    0\n",
       "AMT_REQ_CREDIT_BUREAU_YEAR_5.0    0\n",
       "AMT_REQ_CREDIT_BUREAU_YEAR_6.0    0\n",
       "AMT_REQ_CREDIT_BUREAU_YEAR_7.0    0\n",
       "AMT_REQ_CREDIT_BUREAU_YEAR_8.0    0\n",
       "AMT_REQ_CREDIT_BUREAU_YEAR_9.0    0\n",
       "dtype: int64"
      ]
     },
     "execution_count": 37,
     "metadata": {},
     "output_type": "execute_result"
    }
   ],
   "source": [
    "train.isnull().sum()"
   ]
  },
  {
   "cell_type": "markdown",
   "metadata": {
    "id": "FoKdK60PCnmP"
   },
   "source": [
    "## 3. 機械学習モデルの作成\n",
    "ここでは、機械学習モデルの作成を行います。"
   ]
  },
  {
   "cell_type": "markdown",
   "metadata": {
    "id": "2LLoN-aQIsrk"
   },
   "source": [
    "まずは、必要なライブラリを読み込みます。\n",
    "\n",
    "- train_test_split：データを訓練用データと評価用データに分割する。\n",
    "- StandardScaler：データを標準化する。\n",
    "- roc_auc_score：今回の評価指標であるAUCを計算する。"
   ]
  },
  {
   "cell_type": "code",
   "execution_count": 38,
   "metadata": {
    "id": "RVwkQ5b8CnmP"
   },
   "outputs": [],
   "source": [
    "# ライブラリの読み込み\n",
    "from sklearn.model_selection import train_test_split\n",
    "from sklearn.preprocessing import StandardScaler\n",
    "from sklearn.metrics import roc_auc_score"
   ]
  },
  {
   "cell_type": "markdown",
   "metadata": {
    "id": "bcgHtFrRJpev"
   },
   "source": [
    "データを説明変数と目的変数に分割します。今回の目的変数は「TARGET」なので、それ以外が説明変数となります。"
   ]
  },
  {
   "cell_type": "code",
   "execution_count": 39,
   "metadata": {
    "id": "joie-z89KBdg"
   },
   "outputs": [],
   "source": [
    "# 目的変数と説明変数に分割\n",
    "X = train.drop(\"TARGET\", axis=1).values\n",
    "y = train[\"TARGET\"].values\n",
    "X_test = test.values"
   ]
  },
  {
   "cell_type": "markdown",
   "metadata": {
    "id": "M85-Y6M2KQBX"
   },
   "source": [
    "データを標準化します。標準化とは、平均が0で分散が1となるように値を変換する操作です。ロジスティック回帰やニューラルネットワークなどの一部のモデルでは、このように値のスケールを揃えないと学習が上手くいきません。"
   ]
  },
  {
   "cell_type": "code",
   "execution_count": 40,
   "metadata": {
    "id": "x8lmkBJbCnmQ"
   },
   "outputs": [],
   "source": [
    "# 標準化\n",
    "sc = StandardScaler()\n",
    "sc.fit(X)\n",
    "X_std = sc.transform(X)\n",
    "X_test_std = sc.transform(X_test)"
   ]
  },
  {
   "cell_type": "markdown",
   "metadata": {
    "id": "3faa7zQnKmSS"
   },
   "source": [
    "学習用データのうち、7割を訓練データ、3割を評価データとして分割します。このように、学習データの一部を学習に用いずに、評価用として取っておく手法をホールドアウト法と呼びます。これにより、未知のデータに対する予測精度（汎化性能）を算出することが出来ます。"
   ]
  },
  {
   "cell_type": "code",
   "execution_count": 41,
   "metadata": {
    "id": "_PipkeXdKlvK"
   },
   "outputs": [],
   "source": [
    "# 訓練データと評価データに分割\n",
    "X_train, X_valid, y_train, y_valid = train_test_split(X_std, y, test_size=0.3, stratify=y, random_state=0)"
   ]
  },
  {
   "cell_type": "markdown",
   "metadata": {
    "id": "I62WMgQiMU8J"
   },
   "source": [
    "ロジスティック回帰と多層パーセプトロンでモデルを作成してみます。"
   ]
  },
  {
   "cell_type": "code",
   "execution_count": 42,
   "metadata": {
    "colab": {
     "base_uri": "https://localhost:8080/"
    },
    "executionInfo": {
     "elapsed": 331,
     "status": "ok",
     "timestamp": 1636420636633,
     "user": {
      "displayName": "Takuya Fukushima",
      "photoUrl": "https://lh3.googleusercontent.com/a-/AOh14GhR4LDFC_RMoC8DpM73KIZhKgCXA-oZ-HDU8R2wtw=s64",
      "userId": "15264897430699553304"
     },
     "user_tz": -540
    },
    "id": "bpzK_zyWCnmQ",
    "outputId": "b0dce67d-9ced-4149-a683-ffae3787e862"
   },
   "outputs": [
    {
     "name": "stdout",
     "output_type": "stream",
     "text": [
      "Train Score: 0.7165208322455925\n",
      "Valid Score: 0.7169888015732447\n"
     ]
    }
   ],
   "source": [
    "# LogisticRegression\n",
    "from sklearn.linear_model import LogisticRegression\n",
    "\n",
    "lr = LogisticRegression(random_state=29)\n",
    "lr.fit(X_train, y_train)\n",
    "\n",
    "lr_train_pred = lr.predict_proba(X_train)[:, 1]\n",
    "lr_valid_pred = lr.predict_proba(X_valid)[:, 1]\n",
    "print(f\"Train Score: {roc_auc_score(y_train, lr_train_pred)}\")\n",
    "print(f\"Valid Score: {roc_auc_score(y_valid, lr_valid_pred)}\")"
   ]
  },
  {
   "cell_type": "code",
   "execution_count": 43,
   "metadata": {
    "colab": {
     "base_uri": "https://localhost:8080/"
    },
    "executionInfo": {
     "elapsed": 26302,
     "status": "ok",
     "timestamp": 1636420662933,
     "user": {
      "displayName": "Takuya Fukushima",
      "photoUrl": "https://lh3.googleusercontent.com/a-/AOh14GhR4LDFC_RMoC8DpM73KIZhKgCXA-oZ-HDU8R2wtw=s64",
      "userId": "15264897430699553304"
     },
     "user_tz": -540
    },
    "id": "qvRvrmC2CnmQ",
    "outputId": "a0f2bb20-e46a-4f06-c370-c12e18d1dde9"
   },
   "outputs": [
    {
     "name": "stdout",
     "output_type": "stream",
     "text": [
      "Train Score: 0.73878851933148\n",
      "Valid Score: 0.7094210961046445\n"
     ]
    }
   ],
   "source": [
    "# MLPClassifier\n",
    "from sklearn.neural_network import MLPClassifier\n",
    "\n",
    "mlp = MLPClassifier(random_state=0)\n",
    "mlp.fit(X_train, y_train)\n",
    "\n",
    "mlp_train_pred = mlp.predict_proba(X_train)[:, 1]\n",
    "mlp_valid_pred = mlp.predict_proba(X_valid)[:, 1]\n",
    "print(f\"Train Score: {roc_auc_score(y_train, mlp_train_pred)}\")\n",
    "print(f\"Valid Score: {roc_auc_score(y_valid, mlp_valid_pred)}\")"
   ]
  },
  {
   "cell_type": "markdown",
   "metadata": {
    "id": "5lXYNA6vMoZz"
   },
   "source": [
    "つぎに、勾配ブースティング木（GBDT）と呼ばれるモデルを作成してみたいと思います。GBDTは、使いやすさと精度の高さから、Kaggleなどの分析コンペでよく使用されているモデルです。GBDTの特徴として以下のような点が挙げられます。\n",
    "- 欠損値のあるデータを学習できる。\n",
    "- 標準化などの値のスケーリングが不要。\n",
    "- 精度が高い。\n",
    "- 特徴量間の相互作用が反映される。\n",
    "- 特徴量が多くても精度が落ちにくく、速度が速い。\n",
    "\n",
    "今回はGBDTの中でも代表的なxgboostとlightgbmを扱います。"
   ]
  },
  {
   "cell_type": "code",
   "execution_count": 44,
   "metadata": {
    "colab": {
     "base_uri": "https://localhost:8080/"
    },
    "executionInfo": {
     "elapsed": 6895,
     "status": "ok",
     "timestamp": 1636420669823,
     "user": {
      "displayName": "Takuya Fukushima",
      "photoUrl": "https://lh3.googleusercontent.com/a-/AOh14GhR4LDFC_RMoC8DpM73KIZhKgCXA-oZ-HDU8R2wtw=s64",
      "userId": "15264897430699553304"
     },
     "user_tz": -540
    },
    "id": "XJMskmeDPQiZ",
    "outputId": "b6121710-31ff-4d1e-dc92-46fa8624a884"
   },
   "outputs": [
    {
     "name": "stdout",
     "output_type": "stream",
     "text": [
      "Train Score: 0.8237444957975331\n",
      "Valid Score: 0.7110117607669528\n"
     ]
    }
   ],
   "source": [
    "# XGBClassifier\n",
    "from xgboost import XGBClassifier\n",
    "\n",
    "xgb = XGBClassifier(random_state=10)\n",
    "xgb.fit(X_train, y_train)\n",
    "\n",
    "xgb_train_pred = xgb.predict_proba(X_train)[:, 1]\n",
    "xgb_valid_pred = xgb.predict_proba(X_valid)[:, 1]\n",
    "print(f\"Train Score: {roc_auc_score(y_train, xgb_train_pred)}\")\n",
    "print(f\"Valid Score: {roc_auc_score(y_valid, xgb_valid_pred)}\")"
   ]
  },
  {
   "cell_type": "code",
   "execution_count": 45,
   "metadata": {
    "colab": {
     "base_uri": "https://localhost:8080/"
    },
    "executionInfo": {
     "elapsed": 2287,
     "status": "ok",
     "timestamp": 1636420672096,
     "user": {
      "displayName": "Takuya Fukushima",
      "photoUrl": "https://lh3.googleusercontent.com/a-/AOh14GhR4LDFC_RMoC8DpM73KIZhKgCXA-oZ-HDU8R2wtw=s64",
      "userId": "15264897430699553304"
     },
     "user_tz": -540
    },
    "id": "zPte_7J9D6fK",
    "outputId": "1cfe7445-2f65-46e4-e608-985de9acf615"
   },
   "outputs": [
    {
     "name": "stdout",
     "output_type": "stream",
     "text": [
      "[LightGBM] [Info] Number of positive: 9675, number of negative: 110166\n",
      "[LightGBM] [Info] Auto-choosing row-wise multi-threading, the overhead of testing was 0.008433 seconds.\n",
      "You can set `force_row_wise=true` to remove the overhead.\n",
      "And if memory is not enough, you can set `force_col_wise=true`.\n",
      "[LightGBM] [Info] Total Bins 1112\n",
      "[LightGBM] [Info] Number of data points in the train set: 119841, number of used features: 22\n",
      "[LightGBM] [Info] [binary:BoostFromScore]: pavg=0.080732 -> initscore=-2.432443\n",
      "[LightGBM] [Info] Start training from score -2.432443\n",
      "Train Score: 0.7754457471062814\n",
      "Valid Score: 0.7196975311640836\n"
     ]
    }
   ],
   "source": [
    "# LGBMClassifier\n",
    "from lightgbm import LGBMClassifier\n",
    "\n",
    "lgb = LGBMClassifier(random_state=0)\n",
    "lgb.fit(X_train, y_train)\n",
    "\n",
    "lgb_train_pred = lgb.predict_proba(X_train)[:, 1]\n",
    "lgb_valid_pred = lgb.predict_proba(X_valid)[:, 1]\n",
    "print(f\"Train Score: {roc_auc_score(y_train, lgb_train_pred)}\")\n",
    "print(f\"Valid Score: {roc_auc_score(y_valid, lgb_valid_pred)}\")"
   ]
  },
  {
   "cell_type": "markdown",
   "metadata": {
    "id": "CSthGRA-ZXaY"
   },
   "source": [
    "ここまでで、4つのモデルを作成しました。ここでは、アンサンブルと呼ばれる複数のモデルを組み合わせることを行います。アンサンブルには、様々な手法がありますが、今回はシンプルに4つのモデルの平均値をとることにします。"
   ]
  },
  {
   "cell_type": "code",
   "execution_count": 46,
   "metadata": {
    "colab": {
     "base_uri": "https://localhost:8080/"
    },
    "executionInfo": {
     "elapsed": 8,
     "status": "ok",
     "timestamp": 1636420672097,
     "user": {
      "displayName": "Takuya Fukushima",
      "photoUrl": "https://lh3.googleusercontent.com/a-/AOh14GhR4LDFC_RMoC8DpM73KIZhKgCXA-oZ-HDU8R2wtw=s64",
      "userId": "15264897430699553304"
     },
     "user_tz": -540
    },
    "id": "QwEBg6HbGPGn",
    "outputId": "8038a01c-e2a0-424b-c196-47e43da48f70"
   },
   "outputs": [
    {
     "name": "stdout",
     "output_type": "stream",
     "text": [
      "Train Score: 0.7830286622663538\n",
      "Valid Score: 0.7224827038755242\n"
     ]
    }
   ],
   "source": [
    "train_pred = (lr_train_pred + mlp_train_pred + lgb_train_pred + xgb_train_pred)/4\n",
    "valid_pred = (lr_valid_pred + mlp_valid_pred + lgb_valid_pred + xgb_valid_pred)/4\n",
    "\n",
    "print(f\"Train Score: {roc_auc_score(y_train, train_pred)}\")\n",
    "print(f\"Valid Score: {roc_auc_score(y_valid, valid_pred)}\")"
   ]
  },
  {
   "cell_type": "markdown",
   "metadata": {
    "id": "RFXE351Dah5p"
   },
   "source": [
    "今回は、アンサンブルをしても精度の向上には繋がらなかったため、最終的なモデルは一番スコアの高かったxgboostを用いることにします。"
   ]
  },
  {
   "cell_type": "markdown",
   "metadata": {
    "id": "tn_kdvWYCnmQ"
   },
   "source": [
    "## 4. 予測結果の作成\n",
    "最後にテストデータに対して予測を行い、提出用のcsvファイルを作成します。"
   ]
  },
  {
   "cell_type": "code",
   "execution_count": 47,
   "metadata": {
    "id": "-IPNn-_ZCnmQ"
   },
   "outputs": [],
   "source": [
    "# テストデータに対する予測値の作成\n",
    "\n",
    "\n",
    "pred_xgb = xgb.predict_proba(X_test)[:, 1]\n",
    "pred_lgb = lgb.predict_proba(X_test)[:, 1]\n",
    "pred_mlp = mlp.predict_proba(X_test)[:, 1]\n",
    "pred_lr = lr.predict_proba(X_test)[:, 1]\n",
    "\n",
    "pred = (pred_xgb + pred_lgb + pred_mlp + pred_lr)/4\n",
    "\n",
    "\n",
    "\n",
    "# pred = xgb.predict_proba(X_test)[:, 1]"
   ]
  },
  {
   "cell_type": "code",
   "execution_count": 48,
   "metadata": {
    "colab": {
     "base_uri": "https://localhost:8080/",
     "height": 419
    },
    "executionInfo": {
     "elapsed": 14,
     "status": "ok",
     "timestamp": 1636420672674,
     "user": {
      "displayName": "Takuya Fukushima",
      "photoUrl": "https://lh3.googleusercontent.com/a-/AOh14GhR4LDFC_RMoC8DpM73KIZhKgCXA-oZ-HDU8R2wtw=s64",
      "userId": "15264897430699553304"
     },
     "user_tz": -540
    },
    "id": "c13Ycte5W047",
    "outputId": "c191d015-254d-4f8d-c601-7d6fcf0edfa3"
   },
   "outputs": [
    {
     "data": {
      "text/html": [
       "<div>\n",
       "<style scoped>\n",
       "    .dataframe tbody tr th:only-of-type {\n",
       "        vertical-align: middle;\n",
       "    }\n",
       "\n",
       "    .dataframe tbody tr th {\n",
       "        vertical-align: top;\n",
       "    }\n",
       "\n",
       "    .dataframe thead th {\n",
       "        text-align: right;\n",
       "    }\n",
       "</style>\n",
       "<table border=\"1\" class=\"dataframe\">\n",
       "  <thead>\n",
       "    <tr style=\"text-align: right;\">\n",
       "      <th></th>\n",
       "      <th>SK_ID_CURR</th>\n",
       "      <th>TARGET</th>\n",
       "    </tr>\n",
       "  </thead>\n",
       "  <tbody>\n",
       "    <tr>\n",
       "      <th>0</th>\n",
       "      <td>171202</td>\n",
       "      <td>0.011927</td>\n",
       "    </tr>\n",
       "    <tr>\n",
       "      <th>1</th>\n",
       "      <td>171203</td>\n",
       "      <td>0.018788</td>\n",
       "    </tr>\n",
       "    <tr>\n",
       "      <th>2</th>\n",
       "      <td>171204</td>\n",
       "      <td>0.019779</td>\n",
       "    </tr>\n",
       "    <tr>\n",
       "      <th>3</th>\n",
       "      <td>171205</td>\n",
       "      <td>0.019139</td>\n",
       "    </tr>\n",
       "    <tr>\n",
       "      <th>4</th>\n",
       "      <td>171206</td>\n",
       "      <td>0.015451</td>\n",
       "    </tr>\n",
       "    <tr>\n",
       "      <th>...</th>\n",
       "      <td>...</td>\n",
       "      <td>...</td>\n",
       "    </tr>\n",
       "    <tr>\n",
       "      <th>61495</th>\n",
       "      <td>232697</td>\n",
       "      <td>0.021301</td>\n",
       "    </tr>\n",
       "    <tr>\n",
       "      <th>61496</th>\n",
       "      <td>232698</td>\n",
       "      <td>0.013101</td>\n",
       "    </tr>\n",
       "    <tr>\n",
       "      <th>61497</th>\n",
       "      <td>232699</td>\n",
       "      <td>0.012215</td>\n",
       "    </tr>\n",
       "    <tr>\n",
       "      <th>61498</th>\n",
       "      <td>232700</td>\n",
       "      <td>0.017413</td>\n",
       "    </tr>\n",
       "    <tr>\n",
       "      <th>61499</th>\n",
       "      <td>232701</td>\n",
       "      <td>0.013669</td>\n",
       "    </tr>\n",
       "  </tbody>\n",
       "</table>\n",
       "<p>61500 rows × 2 columns</p>\n",
       "</div>"
      ],
      "text/plain": [
       "       SK_ID_CURR    TARGET\n",
       "0          171202  0.011927\n",
       "1          171203  0.018788\n",
       "2          171204  0.019779\n",
       "3          171205  0.019139\n",
       "4          171206  0.015451\n",
       "...           ...       ...\n",
       "61495      232697  0.021301\n",
       "61496      232698  0.013101\n",
       "61497      232699  0.012215\n",
       "61498      232700  0.017413\n",
       "61499      232701  0.013669\n",
       "\n",
       "[61500 rows x 2 columns]"
      ]
     },
     "execution_count": 48,
     "metadata": {},
     "output_type": "execute_result"
    }
   ],
   "source": [
    "# 予測結果を提出用のフォーマットに格納\n",
    "sample_sub['TARGET'] = pred\n",
    "sample_sub"
   ]
  },
  {
   "cell_type": "code",
   "execution_count": 49,
   "metadata": {
    "id": "cvvLh7-eW7ll"
   },
   "outputs": [],
   "source": [
    "# 提出用のcsvファイルを作成\n",
    "sample_sub.to_csv('submission.csv',index=False)"
   ]
  },
  {
   "cell_type": "markdown",
   "metadata": {
    "id": "LEIQ6tJFYSs4"
   },
   "source": [
    "以上で、Home Credit Default Riskコンペのチュートリアルは終了です。今回は、50種類ある特徴量のうち5種類しか使用していないので、まだまだ改善の余地があります。この後は、このnotebookやこれまでの教材を参考にして、さらなるスコアの向上を目指してください！"
   ]
  }
 ],
 "metadata": {
  "colab": {
   "provenance": []
  },
  "interpreter": {
   "hash": "3fc12855e5119aa7119eb8b28b2c79e4453dd0444ad04c81a8c18197ce5b843e"
  },
  "kernelspec": {
   "display_name": "myenv",
   "language": "python",
   "name": "myenv"
  },
  "language_info": {
   "codemirror_mode": {
    "name": "ipython",
    "version": 3
   },
   "file_extension": ".py",
   "mimetype": "text/x-python",
   "name": "python",
   "nbconvert_exporter": "python",
   "pygments_lexer": "ipython3",
   "version": "3.10.12"
  },
  "orig_nbformat": 4
 },
 "nbformat": 4,
 "nbformat_minor": 0
}
